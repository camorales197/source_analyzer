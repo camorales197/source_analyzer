{
 "cells": [
  {
   "cell_type": "code",
   "execution_count": 1,
   "metadata": {},
   "outputs": [],
   "source": [
    "%load_ext dotenv\n",
    "%dotenv\n",
    "%load_ext autoreload\n",
    "%autoreload 2"
   ]
  },
  {
   "cell_type": "code",
   "execution_count": 2,
   "metadata": {},
   "outputs": [],
   "source": [
    "import os \n",
    "import pandas as pd\n",
    "from langchain_community.document_loaders import UnstructuredPDFLoader\n",
    "from langchain_community.document_loaders import PyPDFLoader\n",
    "from df_llm_analyzer import DataFrameLLMAnalyzer\n",
    "from pydantic import BaseModel, Field\n",
    "from typing import List, Dict"
   ]
  },
  {
   "cell_type": "markdown",
   "metadata": {},
   "source": [
    "# PDF Extraction"
   ]
  },
  {
   "cell_type": "code",
   "execution_count": 3,
   "metadata": {},
   "outputs": [],
   "source": [
    "pdf_list = [\n",
    "    \"/Users/carlosmorales/Desktop/Carlos/personal_projects/afganistan_news/pdf_files/23 Four U.S. Soldiers Killed in Kandahar - The New York Times.pdf\"]\n",
    "articles_content_list = []\n",
    "articles_id_list = []\n",
    "\n",
    "\n",
    "for pdf in pdf_list:\n",
    "    article_text = \"\"\n",
    "    loader = PyPDFLoader(pdf)\n",
    "    pages = loader.load_and_split()\n",
    "    for page in pages:\n",
    "        article_text += page.page_content\n",
    "        article_text += \"\\n\"\n",
    "    articles_content_list.append(article_text)\n",
    "    articles_id_list.append(str(hash(article_text)))\n",
    "    "
   ]
  },
  {
   "cell_type": "code",
   "execution_count": 4,
   "metadata": {},
   "outputs": [
    {
     "data": {
      "text/html": [
       "<div>\n",
       "<style scoped>\n",
       "    .dataframe tbody tr th:only-of-type {\n",
       "        vertical-align: middle;\n",
       "    }\n",
       "\n",
       "    .dataframe tbody tr th {\n",
       "        vertical-align: top;\n",
       "    }\n",
       "\n",
       "    .dataframe thead th {\n",
       "        text-align: right;\n",
       "    }\n",
       "</style>\n",
       "<table border=\"1\" class=\"dataframe\">\n",
       "  <thead>\n",
       "    <tr style=\"text-align: right;\">\n",
       "      <th></th>\n",
       "      <th>id</th>\n",
       "      <th>text</th>\n",
       "    </tr>\n",
       "  </thead>\n",
       "  <tbody>\n",
       "    <tr>\n",
       "      <th>0</th>\n",
       "      <td>-7835225787912804826</td>\n",
       "      <td>20-7-2021 Four U.S. Soldiers Killed in Kandaha...</td>\n",
       "    </tr>\n",
       "  </tbody>\n",
       "</table>\n",
       "</div>"
      ],
      "text/plain": [
       "                     id                                               text\n",
       "0  -7835225787912804826  20-7-2021 Four U.S. Soldiers Killed in Kandaha..."
      ]
     },
     "execution_count": 4,
     "metadata": {},
     "output_type": "execute_result"
    }
   ],
   "source": [
    "df_articles = pd.DataFrame({\"id\": articles_id_list, \"text\": articles_content_list})\n",
    "df_articles.head(1)"
   ]
  },
  {
   "cell_type": "code",
   "execution_count": 5,
   "metadata": {},
   "outputs": [
    {
     "name": "stdout",
     "output_type": "stream",
     "text": [
      " -  -  -  -  -  -  -  -  -  - \n",
      "20-7-2021 Four U.S. Soldiers Killed in Kandahar - The New Y ork T imes\n",
      "https://www .nytimes.com/2002/04/15/international/four -us-soldiers-killed-in-kandahar .html 1/2https://w ww.nytimes.com/2002/04/15/interna tional/four-us -soldiers -killed-in-kandahar .html\n",
      "By T erence N eilan\n",
      "April 15, 2002\n",
      "Four American soldiers were killed and one was wounded today when rockets they were disposing of exploded near\n",
      "Kandahar, Afghanistan, defense officials said.\n",
      "The injured man was evacuated to the medical facility at Kandahar. The dead soldiers' names were being withheld until\n",
      "their next of kin had been notified.\n",
      "Lt. Col. Dave Lapan, a liaison between the Pentagon and Central Command in Tampa, Fla., said that the incident was not\n",
      "related to hostile fire.\n",
      "The explosion happened at about 11:30 a.m. local time, or 3 a.m. Eastern time, as the soldiers were disposing of 107-\n",
      "millimeter rockets, Colonel Lapan said.\n",
      "\"It was an accident,\" added Maj. Ralph Mills, a spokesman at Central Command.\n",
      "According to Pentagon figures, a total of 36 United States troops have now died in and around Afghanistan since a\n",
      "campaign against Al Qaeda guerrillas and Taliban fighters there began on Oct. 7 in response to the Sept. 11 terror attacks\n",
      "in the United States.\n",
      "About 7,000 Americans are deployed in Afghanistan, in addition to numbers of allied troops, including a British\n",
      "peacekeeping force in Kabul, the Afghan capital.\n",
      "On Sunday two explosions occurred at an airfield used by coalition forces in the southeastern city of Khost, near the\n",
      "border with Pakistan, Maj. Bryan Hilferty, a United States military spokesman, said.Four U .S. Soldiers K illed in K andahar\n",
      "20-7-2021 Four U.S. Soldiers Killed in Kandahar - The New Y ork T imes\n",
      "https://www .nytimes.com/2002/04/15/international/four -us-soldiers-killed-in-kandahar .html 2/2The explosions came near the spot where two rocket-propelled grenades exploded on Saturday night, he was quoted by\n",
      "The Associated Press as saying.\n",
      "\n"
     ]
    }
   ],
   "source": [
    "for article in articles_content_list:\n",
    "    print ( \" - \" * 10)\n",
    "    print(article)\n",
    "    break"
   ]
  },
  {
   "cell_type": "markdown",
   "metadata": {},
   "source": [
    "# Source Identifier"
   ]
  },
  {
   "cell_type": "code",
   "execution_count": 1,
   "metadata": {},
   "outputs": [
    {
     "ename": "NameError",
     "evalue": "name 'article' is not defined",
     "output_type": "error",
     "traceback": [
      "\u001b[0;31m---------------------------------------------------------------------------\u001b[0m",
      "\u001b[0;31mNameError\u001b[0m                                 Traceback (most recent call last)",
      "Cell \u001b[0;32mIn[1], line 30\u001b[0m\n\u001b[1;32m      1\u001b[0m source_identifier_template \u001b[38;5;241m=\u001b[39m \u001b[38;5;124mf\u001b[39m\u001b[38;5;124m\"\"\"\u001b[39m\n\u001b[1;32m      2\u001b[0m \u001b[38;5;124m**Instructions for Research Assistant**:\u001b[39m\n\u001b[1;32m      3\u001b[0m \u001b[38;5;124m \u001b[39m\n\u001b[1;32m      4\u001b[0m \u001b[38;5;124mYour mission is to meticulously identify and extract all sources cited in news articles, focusing on both direct and indirect mentions. Capture every mentioned source, paying close attention to the geographical context of each source when available. It is crucial to include only mentions with identifiable sources. Whenever a quote is given, ensure to cite it every time it occurs, even if a source name is mentioned more than one time. If a mention does not clearly reference a source, please do not include it.\u001b[39m\n\u001b[1;32m      5\u001b[0m \u001b[38;5;124m \u001b[39m\n\u001b[1;32m      6\u001b[0m \u001b[38;5;124m**Key Points to Follow**:\u001b[39m\n\u001b[1;32m      7\u001b[0m \u001b[38;5;124m \u001b[39m\n\u001b[1;32m      8\u001b[0m \u001b[38;5;124m1. **Extract and Organize Multiple Sources**: Your goal is to diligently read through the article to identify all instances of direct quotes and indirect references. For each source, include:\u001b[39m\n\u001b[1;32m      9\u001b[0m \u001b[38;5;124m   - The source or document name.\u001b[39m\n\u001b[1;32m     10\u001b[0m \u001b[38;5;124m   - Their title or the nature of the document.\u001b[39m\n\u001b[1;32m     11\u001b[0m \u001b[38;5;124m   - The country of origin if mentioned.\u001b[39m\n\u001b[1;32m     12\u001b[0m \u001b[38;5;124m   - **A comprehensive excerpt that includes the actual statement or information attributed to the source.**\u001b[39m\n\u001b[1;32m     13\u001b[0m \u001b[38;5;124m \u001b[39m\n\u001b[1;32m     14\u001b[0m \u001b[38;5;124m2. **Response Format**: Provide structured responses for each identified source to ensure clarity and completeness. This includes:\u001b[39m\n\u001b[1;32m     15\u001b[0m \u001b[38;5;124m   - **Direct Quotes**: Include the full sentence or paragraph where the source directly provides information or opinion.\u001b[39m\n\u001b[1;32m     16\u001b[0m \u001b[38;5;124m   - **Indirect References**: Specify the section of text that discusses the findings, opinions, or information attributed to the source, including the context of the mention.\u001b[39m\n\u001b[1;32m     17\u001b[0m \u001b[38;5;124m \u001b[39m\n\u001b[1;32m     18\u001b[0m \u001b[38;5;124m3. **Enhanced Examples**:\u001b[39m\n\u001b[1;32m     19\u001b[0m \u001b[38;5;124m   - Direct: Dr. Wei, Energy Minister of China, stated, \u001b[39m\u001b[38;5;124m\"\u001b[39m\u001b[38;5;124mRenewable energy is our future.\u001b[39m\u001b[38;5;124m\"\u001b[39m\n\u001b[1;32m     20\u001b[0m \u001b[38;5;124m     - Source: Dr. Wei (Energy Minister, China)\u001b[39m\n\u001b[1;32m     21\u001b[0m \u001b[38;5;124m     - Excerpt: \u001b[39m\u001b[38;5;124m\"\u001b[39m\u001b[38;5;124mRenewable energy is our future.\u001b[39m\u001b[38;5;124m\"\u001b[39m\n\u001b[1;32m     22\u001b[0m \u001b[38;5;124m   - Indirect: According to the 2020 Global Health Report produced in Switzerland, there has been a significant increase in global health awareness.\u001b[39m\n\u001b[1;32m     23\u001b[0m \u001b[38;5;124m     - Source: 2020 Global Health Report (Document, Switzerland)\u001b[39m\n\u001b[1;32m     24\u001b[0m \u001b[38;5;124m     - Excerpt: \u001b[39m\u001b[38;5;124m\"\u001b[39m\u001b[38;5;124mThe report highlights a significant increase in global health awareness.\u001b[39m\u001b[38;5;124m\"\u001b[39m\n\u001b[1;32m     25\u001b[0m \u001b[38;5;124m \u001b[39m\n\u001b[1;32m     26\u001b[0m \u001b[38;5;124mEnsure that the excerpts you provide reflect meaningful content that directly relates to each source’s contribution to the article. If a mention in the article does not include direct information or quotes from the source, it should not be documented.\u001b[39m\n\u001b[1;32m     27\u001b[0m \u001b[38;5;124m \u001b[39m\n\u001b[1;32m     28\u001b[0m \u001b[38;5;124m**Article Content**:\u001b[39m\n\u001b[1;32m     29\u001b[0m \u001b[38;5;124m >>>\u001b[39m\n\u001b[0;32m---> 30\u001b[0m \u001b[38;5;132;01m{\u001b[39;00m\u001b[43marticle\u001b[49m\u001b[38;5;132;01m}\u001b[39;00m\n\u001b[1;32m     31\u001b[0m \u001b[38;5;124m<<<\u001b[39m\n\u001b[1;32m     32\u001b[0m \u001b[38;5;124m\"\"\"\u001b[39m\n",
      "\u001b[0;31mNameError\u001b[0m: name 'article' is not defined"
     ]
    }
   ],
   "source": [
    "source_identifier_template = f\"\"\"\n",
    "**Instructions for Research Assistant**:\n",
    " \n",
    "Your mission is to meticulously identify and extract all sources cited in news articles, focusing on both direct and indirect mentions. Capture every mentioned source, paying close attention to the geographical context of each source when available. It is crucial to include only mentions with identifiable sources. Whenever a quote is given, ensure to cite it every time it occurs, even if a source name is mentioned more than one time. If a mention does not clearly reference a source, please do not include it.\n",
    " \n",
    "**Key Points to Follow**:\n",
    " \n",
    "1. **Extract and Organize Multiple Sources**: Your goal is to diligently read through the article to identify all instances of direct quotes and indirect references. For each source, include:\n",
    "   - The source or document name.\n",
    "   - Their title or the nature of the document.\n",
    "   - The country of origin if mentioned.\n",
    "   - **A comprehensive excerpt that includes the actual statement or information attributed to the source.**\n",
    " \n",
    "2. **Response Format**: Provide structured responses for each identified source to ensure clarity and completeness. This includes:\n",
    "   - **Direct Quotes**: Include the full sentence or paragraph where the source directly provides information or opinion.\n",
    "   - **Indirect References**: Specify the section of text that discusses the findings, opinions, or information attributed to the source, including the context of the mention.\n",
    " \n",
    "3. **Enhanced Examples**:\n",
    "   - Direct: Dr. Wei, Energy Minister of China, stated, \"Renewable energy is our future.\"\n",
    "     - Source: Dr. Wei (Energy Minister, China)\n",
    "     - Excerpt: \"Renewable energy is our future.\"\n",
    "   - Indirect: According to the 2020 Global Health Report produced in Switzerland, there has been a significant increase in global health awareness.\n",
    "     - Source: 2020 Global Health Report (Document, Switzerland)\n",
    "     - Excerpt: \"The report highlights a significant increase in global health awareness.\"\n",
    " \n",
    "Ensure that the excerpts you provide reflect meaningful content that directly relates to each source’s contribution to the article. If a mention in the article does not include direct information or quotes from the source, it should not be documented.\n",
    " \n",
    "**Article Content**:\n",
    " >>>\n",
    "{article}\n",
    "<<<\n",
    "\"\"\"\n"
   ]
  },
  {
   "cell_type": "code",
   "execution_count": 33,
   "metadata": {},
   "outputs": [],
   "source": [
    "class SourceIdentifierFunction(BaseModel):\n",
    "    \"\"\"\n",
    "    Detailed information about all the sources found, including the source name and the associated excerpts from the news article.\n",
    "    \"\"\"\n",
    "    source_names: List[str] = Field(..., description=\"List of source names, which can be a person, country, document, organization, anonymous, or unnamed source, etc.\")\n",
    "    excerpts: List[str] = Field(..., description=\"List of excerpts from the article where the sources are mentioned. These can be direct quotes or indirect references, ideally with the geographical context of the sources when available.\")\n",
    "\n"
   ]
  },
  {
   "cell_type": "code",
   "execution_count": 34,
   "metadata": {},
   "outputs": [
    {
     "data": {
      "text/plain": [
       "{'name': 'SourceIdentifierFunction',\n",
       " 'description': 'Detailed information about all the sources found, including the source name and the associated excerpts from the news article.',\n",
       " 'parameters': {'properties': {'source_names': {'description': 'List of source names, which can be a person, country, document, organization, anonymous, or unnamed source, etc.',\n",
       "    'items': {'type': 'string'},\n",
       "    'type': 'array'},\n",
       "   'excerpts': {'description': 'List of excerpts from the article where the sources are mentioned. These can be direct quotes or indirect references, ideally with the geographical context of the sources when available.',\n",
       "    'items': {'type': 'string'},\n",
       "    'type': 'array'}},\n",
       "  'required': ['source_names', 'excerpts'],\n",
       "  'type': 'object'}}"
      ]
     },
     "execution_count": 34,
     "metadata": {},
     "output_type": "execute_result"
    }
   ],
   "source": [
    "from langchain.utils.openai_functions import convert_pydantic_to_openai_function\n",
    "\n",
    "convert_pydantic_to_openai_function(SourceIdentifierFunction)\n"
   ]
  },
  {
   "cell_type": "code",
   "execution_count": 38,
   "metadata": {},
   "outputs": [
    {
     "name": "stderr",
     "output_type": "stream",
     "text": [
      "\u001b[32m2024-04-06 20:37:57.698\u001b[0m | \u001b[34m\u001b[1mDEBUG   \u001b[0m | \u001b[36mdf_llm_analyzer\u001b[0m:\u001b[36m__init__\u001b[0m:\u001b[36m59\u001b[0m - \u001b[34m\u001b[1mInitialized LanguageModelDataFrameAnalyzer with model: gpt-3.5-turbo-0125, temperature: 0\u001b[0m\n"
     ]
    }
   ],
   "source": [
    "analyzer = DataFrameLLMAnalyzer(\n",
    "        model_name = \"gpt-3.5-turbo-0125\",\n",
    "        temperature = 0,\n",
    "        prompt_template = source_identifier_template,\n",
    "        analysis_function = SourceIdentifierFunction,\n",
    "        df_fields = [\"text\"],\n",
    "        results_path = \"prompt_1_results/source_analyzer_results.parquet\",\n",
    ")"
   ]
  },
  {
   "cell_type": "code",
   "execution_count": 39,
   "metadata": {},
   "outputs": [
    {
     "name": "stderr",
     "output_type": "stream",
     "text": [
      "\u001b[32m2024-04-06 20:37:59.026\u001b[0m | \u001b[1mINFO    \u001b[0m | \u001b[36mdf_llm_analyzer\u001b[0m:\u001b[36manalyze\u001b[0m:\u001b[36m71\u001b[0m - \u001b[1mNumber of rows to process: 1\u001b[0m\n",
      "\u001b[32m2024-04-06 20:37:59.027\u001b[0m | \u001b[1mINFO    \u001b[0m | \u001b[36mdf_llm_analyzer\u001b[0m:\u001b[36m_load_existing_results\u001b[0m:\u001b[36m92\u001b[0m - \u001b[1mNo existing file found at prompt_1_results/source_analyzer_results.parquet, starting from scratch.\u001b[0m\n",
      "Analyzing batches:   0%|          | 0/1 [00:00<?, ?it/s]\u001b[32m2024-04-06 20:38:01.769\u001b[0m | \u001b[1mINFO    \u001b[0m | \u001b[36mdf_llm_analyzer\u001b[0m:\u001b[36m_store_results\u001b[0m:\u001b[36m168\u001b[0m - \u001b[1mNo existing results found at prompt_1_results/source_analyzer_results.parquet. Creating new results file.\u001b[0m\n",
      "Analyzing batches: 100%|██████████| 1/1 [00:02<00:00,  2.74s/it]\n",
      "\u001b[32m2024-04-06 20:38:01.775\u001b[0m | \u001b[1mINFO    \u001b[0m | \u001b[36mdf_llm_analyzer\u001b[0m:\u001b[36m_analyze_in_batches\u001b[0m:\u001b[36m135\u001b[0m - \u001b[1mTotal Tokens: 1247\u001b[0m\n",
      "\u001b[32m2024-04-06 20:38:01.775\u001b[0m | \u001b[1mINFO    \u001b[0m | \u001b[36mdf_llm_analyzer\u001b[0m:\u001b[36m_analyze_in_batches\u001b[0m:\u001b[36m136\u001b[0m - \u001b[1mTotal Cost: 0.0008115 USD\u001b[0m\n",
      "\u001b[32m2024-04-06 20:38:01.776\u001b[0m | \u001b[1mINFO    \u001b[0m | \u001b[36mdf_llm_analyzer\u001b[0m:\u001b[36m_analyze_in_batches\u001b[0m:\u001b[36m137\u001b[0m - \u001b[1mResults saved to prompt_1_results/source_analyzer_results.parquet\u001b[0m\n"
     ]
    }
   ],
   "source": [
    "df_sources = analyzer.analyze(df=df_articles)"
   ]
  },
  {
   "cell_type": "code",
   "execution_count": 40,
   "metadata": {},
   "outputs": [
    {
     "data": {
      "text/plain": [
       "[array(['Terence Neilan', 'Lt. Col. Dave Lapan', 'Maj. Ralph Mills',\n",
       "        'Maj. Bryan Hilferty', 'The Associated Press'], dtype=object)]"
      ]
     },
     "execution_count": 40,
     "metadata": {},
     "output_type": "execute_result"
    }
   ],
   "source": [
    "df_sources[\"source_names\"].tolist()"
   ]
  },
  {
   "cell_type": "code",
   "execution_count": 41,
   "metadata": {},
   "outputs": [
    {
     "data": {
      "text/plain": [
       "[array(['Four American soldiers were killed and one was wounded today when rockets they were disposing of exploded near Kandahar, Afghanistan, defense officials said.',\n",
       "        'Lt. Col. Dave Lapan, a liaison between the Pentagon and Central Command in Tampa, Fla., said that the incident was not related to hostile fire.',\n",
       "        '\"It was an accident,\" added Maj. Ralph Mills, a spokesman at Central Command.',\n",
       "        'On Sunday two explosions occurred at an airfield used by coalition forces in the southeastern city of Khost, near the border with Pakistan, Maj. Bryan Hilferty, a United States military spokesman, said.',\n",
       "        'The explosions came near the spot where two rocket-propelled grenades exploded on Saturday night, he was quoted by The Associated Press as saying.'],\n",
       "       dtype=object)]"
      ]
     },
     "execution_count": 41,
     "metadata": {},
     "output_type": "execute_result"
    }
   ],
   "source": [
    "df_sources[\"excerpts\"].tolist()"
   ]
  },
  {
   "cell_type": "code",
   "execution_count": 31,
   "metadata": {},
   "outputs": [
    {
     "name": "stdout",
     "output_type": "stream",
     "text": [
      "Source: Lt. Col. Dave Lapan\n",
      "Excerpt: Lt. Col. Dave Lapan, a liaison between the Pentagon and Central Command in Tampa, Fla.\n",
      "--------------------------------------------------\n",
      "Source: Maj. Ralph Mills\n",
      "Excerpt: Maj. Ralph Mills, a spokesman at Central Command.\n",
      "--------------------------------------------------\n",
      "Source: Maj. Bryan Hilferty\n",
      "Excerpt: Maj. Bryan Hilferty, a United States military spokesman.\n",
      "--------------------------------------------------\n",
      "Source: The Associated Press\n",
      "Excerpt: he was quoted by The Associated Press as saying.\n",
      "--------------------------------------------------\n"
     ]
    }
   ],
   "source": [
    "for sources, excerpts in zip(df_sources[\"source_names\"], df_sources[\"excerpts\"]):\n",
    "    for source, excerpt in zip(sources, excerpts):\n",
    "        print(f\"Source: {source}\\nExcerpt: {excerpt}\\n{'-'*50}\")\n"
   ]
  }
 ],
 "metadata": {
  "kernelspec": {
   "display_name": "afganistan_news-iJBxg4na",
   "language": "python",
   "name": "python3"
  },
  "language_info": {
   "codemirror_mode": {
    "name": "ipython",
    "version": 3
   },
   "file_extension": ".py",
   "mimetype": "text/x-python",
   "name": "python",
   "nbconvert_exporter": "python",
   "pygments_lexer": "ipython3",
   "version": "3.11.6"
  }
 },
 "nbformat": 4,
 "nbformat_minor": 2
}
