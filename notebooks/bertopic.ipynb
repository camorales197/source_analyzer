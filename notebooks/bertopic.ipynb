{
 "cells": [
  {
   "cell_type": "code",
   "execution_count": 1,
   "metadata": {},
   "outputs": [],
   "source": [
    "%load_ext autoreload\n",
    "%autoreload 2"
   ]
  },
  {
   "cell_type": "code",
   "execution_count": 2,
   "metadata": {},
   "outputs": [],
   "source": [
    "from bertopic import BERTopic\n",
    "import pandas as pd \n",
    "from transformers.pipelines import pipeline\n",
    "import os\n"
   ]
  },
  {
   "cell_type": "markdown",
   "metadata": {},
   "source": [
    "# Loading articles"
   ]
  },
  {
   "cell_type": "code",
   "execution_count": 3,
   "metadata": {},
   "outputs": [
    {
     "data": {
      "text/html": [
       "<div>\n",
       "<style scoped>\n",
       "    .dataframe tbody tr th:only-of-type {\n",
       "        vertical-align: middle;\n",
       "    }\n",
       "\n",
       "    .dataframe tbody tr th {\n",
       "        vertical-align: top;\n",
       "    }\n",
       "\n",
       "    .dataframe thead th {\n",
       "        text-align: right;\n",
       "    }\n",
       "</style>\n",
       "<table border=\"1\" class=\"dataframe\">\n",
       "  <thead>\n",
       "    <tr style=\"text-align: right;\">\n",
       "      <th></th>\n",
       "      <th>title</th>\n",
       "      <th>published_date</th>\n",
       "      <th>authors</th>\n",
       "      <th>description</th>\n",
       "      <th>section</th>\n",
       "      <th>content</th>\n",
       "      <th>link</th>\n",
       "      <th>top_image</th>\n",
       "    </tr>\n",
       "  </thead>\n",
       "  <tbody>\n",
       "    <tr>\n",
       "      <th>0</th>\n",
       "      <td>Saido Berahino: Stoke complete deal to sign We...</td>\n",
       "      <td>2017-01-21</td>\n",
       "      <td>None</td>\n",
       "      <td>Stoke sign West Brom striker Saido Berahino fo...</td>\n",
       "      <td>None</td>\n",
       "      <td>Last updated on .From the section Football\\n\\n...</td>\n",
       "      <td>http://www.bbc.co.uk/sport/football/38696547</td>\n",
       "      <td>https://ichef.bbci.co.uk/onesport/cps/624/cpsp...</td>\n",
       "    </tr>\n",
       "  </tbody>\n",
       "</table>\n",
       "</div>"
      ],
      "text/plain": [
       "                                               title published_date authors  \\\n",
       "0  Saido Berahino: Stoke complete deal to sign We...     2017-01-21    None   \n",
       "\n",
       "                                         description section  \\\n",
       "0  Stoke sign West Brom striker Saido Berahino fo...    None   \n",
       "\n",
       "                                             content  \\\n",
       "0  Last updated on .From the section Football\\n\\n...   \n",
       "\n",
       "                                           link  \\\n",
       "0  http://www.bbc.co.uk/sport/football/38696547   \n",
       "\n",
       "                                           top_image  \n",
       "0  https://ichef.bbci.co.uk/onesport/cps/624/cpsp...  "
      ]
     },
     "execution_count": 3,
     "metadata": {},
     "output_type": "execute_result"
    }
   ],
   "source": [
    "df_articles = pd.read_parquet(\"../files/bbc_news.parquet\", engine=\"pyarrow\")\n",
    "df_articles.head(1)\n"
   ]
  },
  {
   "cell_type": "code",
   "execution_count": 4,
   "metadata": {},
   "outputs": [],
   "source": [
    "df_articles = df_articles.drop_duplicates('content')"
   ]
  },
  {
   "cell_type": "code",
   "execution_count": 5,
   "metadata": {},
   "outputs": [],
   "source": [
    "df_articles['text'] = df_articles.apply(lambda x: 'Article Title: ' + x['title'] + '\\n' + \"Article Body :\" + x['content'], axis=1)"
   ]
  },
  {
   "cell_type": "code",
   "execution_count": 6,
   "metadata": {},
   "outputs": [],
   "source": [
    "docs = df_articles['text'].tolist()"
   ]
  },
  {
   "cell_type": "code",
   "execution_count": 7,
   "metadata": {},
   "outputs": [
    {
     "name": "stdout",
     "output_type": "stream",
     "text": [
      "Article Title: Saido Berahino: Stoke complete deal to sign West Brom's 23-year-old striker - BBC Sport\n",
      "Article Body :Last updated on .From the section Football\n",
      "\n",
      "Stoke have signed West Brom striker Saido Berahino for a fee of £12m on a five-and-a-half-year deal.\n",
      "\n",
      "The 23-year-old's contract had been due to expire at the end of the season, and the Baggies offered him a new deal for a third time in December.\n",
      "\n",
      "He has not played since September and his relationship with the club had broken down since the 2014-15 campaign.\n",
      "\n",
      "\"I've had a tough two years but everything happens for a reason. I'm mentally stronger now,\" Berahino said\n",
      "\n",
      "\"Now I am finally here I just can't wait to start. For Stoke to show their faith in me is unbelievable,\" he added.\n",
      "\n",
      "\"On match fitness I am not there yet, but I am going to work hard to get myself back so I can help my new team-mates climb the table.\"\n",
      "\n",
      "Stoke chief executive Tony Scholes said: \"We've signed a young English striker who has already proven his ability in the Premier League.\n",
      "\n",
      "\"After a frustrating period he's now desperately keen to reignite his career and we look forward to seeing him do that with us.\"\n",
      "\n",
      "Berahino reacted angrily to a bid from Tottenham being turned down on transfer deadline day in summer 2015 and two months later tweeted that he would never play for West Brom again under then-chairman Jeremy Peace.\n",
      "\n",
      "And in January 2015, he scored four goals but barely celebrated in what was interpreted as a sign of his growing disillusionment at the Hawthorns.\n",
      "\n",
      "Speaking after Saturday's 4-0 defeat by Spurs, West Brom boss - and former Stoke manager - Tony Pulis had said Berahino would not be sold \"unless it is right for the club\".\n",
      "\n",
      "He added: \"It has to be a two-way situation. That has always been the situation; we will not sell the lad because it suits him.\"\n",
      "\n",
      "England Under-21 forward Berahino is the Potters' second signing of this transfer window after the loan deal for Derby keeper Lee Grant was made permanent.\n"
     ]
    }
   ],
   "source": [
    "print(docs[0])"
   ]
  },
  {
   "cell_type": "markdown",
   "metadata": {},
   "source": [
    "# Training Bertopic"
   ]
  },
  {
   "cell_type": "code",
   "execution_count": 8,
   "metadata": {},
   "outputs": [],
   "source": [
    "topic_model = BERTopic()"
   ]
  },
  {
   "cell_type": "code",
   "execution_count": 9,
   "metadata": {},
   "outputs": [
    {
     "name": "stderr",
     "output_type": "stream",
     "text": [
      "huggingface/tokenizers: The current process just got forked, after parallelism has already been used. Disabling parallelism to avoid deadlocks...\n",
      "To disable this warning, you can either:\n",
      "\t- Avoid using `tokenizers` before the fork if possible\n",
      "\t- Explicitly set the environment variable TOKENIZERS_PARALLELISM=(true | false)\n",
      "huggingface/tokenizers: The current process just got forked, after parallelism has already been used. Disabling parallelism to avoid deadlocks...\n",
      "To disable this warning, you can either:\n",
      "\t- Avoid using `tokenizers` before the fork if possible\n",
      "\t- Explicitly set the environment variable TOKENIZERS_PARALLELISM=(true | false)\n",
      "huggingface/tokenizers: The current process just got forked, after parallelism has already been used. Disabling parallelism to avoid deadlocks...\n",
      "To disable this warning, you can either:\n",
      "\t- Avoid using `tokenizers` before the fork if possible\n",
      "\t- Explicitly set the environment variable TOKENIZERS_PARALLELISM=(true | false)\n",
      "huggingface/tokenizers: The current process just got forked, after parallelism has already been used. Disabling parallelism to avoid deadlocks...\n",
      "To disable this warning, you can either:\n",
      "\t- Avoid using `tokenizers` before the fork if possible\n",
      "\t- Explicitly set the environment variable TOKENIZERS_PARALLELISM=(true | false)\n",
      "huggingface/tokenizers: The current process just got forked, after parallelism has already been used. Disabling parallelism to avoid deadlocks...\n",
      "To disable this warning, you can either:\n",
      "\t- Avoid using `tokenizers` before the fork if possible\n",
      "\t- Explicitly set the environment variable TOKENIZERS_PARALLELISM=(true | false)\n"
     ]
    }
   ],
   "source": [
    "topics, probs = topic_model.fit_transform(docs)"
   ]
  },
  {
   "cell_type": "markdown",
   "metadata": {},
   "source": [
    "# Pushing model to Hugging Face \n"
   ]
  },
  {
   "cell_type": "code",
   "execution_count": 10,
   "metadata": {},
   "outputs": [
    {
     "data": {
      "application/vnd.jupyter.widget-view+json": {
       "model_id": "61da355a347c4d0b85382e849e399bd9",
       "version_major": 2,
       "version_minor": 0
      },
      "text/plain": [
       "ctfidf.safetensors:   0%|          | 0.00/52.1M [00:00<?, ?B/s]"
      ]
     },
     "metadata": {},
     "output_type": "display_data"
    },
    {
     "data": {
      "application/vnd.jupyter.widget-view+json": {
       "model_id": "ed68926fcddd486faa370a85b4f4da82",
       "version_major": 2,
       "version_minor": 0
      },
      "text/plain": [
       "topic_embeddings.safetensors:   0%|          | 0.00/2.02M [00:00<?, ?B/s]"
      ]
     },
     "metadata": {},
     "output_type": "display_data"
    },
    {
     "data": {
      "application/vnd.jupyter.widget-view+json": {
       "model_id": "af9c412cddd940f9b3952766b0d69d2c",
       "version_major": 2,
       "version_minor": 0
      },
      "text/plain": [
       "Upload 2 LFS files:   0%|          | 0/2 [00:00<?, ?it/s]"
      ]
     },
     "metadata": {},
     "output_type": "display_data"
    },
    {
     "data": {
      "text/plain": [
       "CommitInfo(commit_url='https://huggingface.co/CarlosMorales/bbc_news_topics/commit/c84783a40b94a70e3d127c46228d183d9bab9272', commit_message='Add BERTopic model', commit_description='', oid='c84783a40b94a70e3d127c46228d183d9bab9272', pr_url=None, pr_revision=None, pr_num=None)"
      ]
     },
     "execution_count": 10,
     "metadata": {},
     "output_type": "execute_result"
    }
   ],
   "source": [
    "topic_model.push_to_hf_hub(\n",
    "    \"CarlosMorales/bbc_news_topics\",\n",
    "    save_ctfidf=True,\n",
    "    save_embedding_model=\"sentence-transformers/all-MiniLM-L6-v2\"\n",
    ")"
   ]
  },
  {
   "cell_type": "markdown",
   "metadata": {},
   "source": [
    "# Finding articles about conflicts "
   ]
  },
  {
   "cell_type": "code",
   "execution_count": 11,
   "metadata": {},
   "outputs": [
    {
     "data": {
      "text/plain": [
       "([778, 59, 978, 1307, 55],\n",
       " [0.66573966, 0.6550449, 0.63287723, 0.62388015, 0.6068135])"
      ]
     },
     "execution_count": 11,
     "metadata": {},
     "output_type": "execute_result"
    }
   ],
   "source": [
    "topic_model.find_topics(\"Ukraine war\", top_n=5)"
   ]
  },
  {
   "cell_type": "code",
   "execution_count": 12,
   "metadata": {},
   "outputs": [
    {
     "data": {
      "text/plain": [
       "['Article Title: Bowen: Five new realities after four weeks of Israel-Gaza war - BBC News\\nArticle Body :The aftermath of a strike on Gaza\\'s Jabalia refugee camp earlier this week\\n\\nOne of the first things to understand about the reportage, analysis and commentary that has poured out since the Hamas attacks of 7 October is that no-one has the full story. Not only is it, as ever, hard to penetrate the fog of war to work out what is happening on the battlefield. The new shape of the conflict between Israelis and Palestinians has not yet emerged.\\n\\nEvents are still moving fast. Fears that the war could spread are very real. New realities in the Middle East are out there somewhere, but their shape and the way that they will work depend on the way this war goes for the rest of the year, and probably beyond.\\n\\nHere are a few things that we know, and a few that we do not. The list is not exhaustive. Some people mocked Donald Rumsfeld, US defence secretary at the time of the invasion of Iraq in 2003, when he talked of \"unknown unknowns\". But in this part of the world as much as any other, they exist - and when they emerge, they can make a big difference.\\n\\nOne certainty is that Israelis support the military campaign to break the power in Gaza of Hamas and its junior partner, Islamic Jihad. Their anger is driven by the shock of the Hamas attacks, the killing of more than 1,400 people and the fact that around 240 hostages are still being held in Gaza.\\n\\nThe Hamas attack on Israel killed 1,400 people, many of them residents of kibbutzes near Gaza\\n\\nI met Noam Tibon, a retired general in the Israeli army, to hear about how he drove down with his wife to Nahal Oz, a kibbutz on the border with Gaza, after Hamas attacked on 7 October. His mission, which was successful, was to rescue his son, his daughter in law and their two young daughters who were in their safe room, hearing Hamas gunmen roaming around outside.\\n\\nTibon may be retired but he is a very fit-looking 62-year-old. He ended up armed with an assault rifle and a helmet he had taken from a dead Israeli soldier, leading a group of soldiers he had assembled in the chaos of that day, clearing the kibbutz and saving the lives of his family and many others.\\n\\nThe general was an old-school, straight-talking Israeli officer.\\n\\n\"Gaza is going to suffer… no nation will agree that your neighbour will slaughter babies, women or people. Just like you (Britons) crushed your enemy during World War Two. This is what we need to do in Gaza. No mercy.\"\\n\\nWhat, I asked, about innocent Palestinian civilians who are getting killed?\\n\\n\"Unfortunately, it\\'s happening. We live in a tough neighbourhood, and we need to survive… we have to be tough. We have no choice.\"\\n\\nA lot of Israelis are echoing his sentiment that Palestinian civilian deaths are unfortunate, but they are being killed because of the actions of Hamas.\\n\\nIt is also clear that Israel\\'s assault on Hamas is causing terrible bloodshed. The latest figure for Palestinian deaths from Gaza\\'s health ministry, run by Hamas, has exceeded 9,000 - of whom around 65% are children and women.\\n\\nIt is not clear how many of the men who have been killed were civilians or fighting for Hamas or Islamic Jihad. US President Joe Biden and the Israelis do not trust the ministry figures. But in past conflicts, Palestinian casualty statistics have been considered accurate by international organisations.\\n\\nOne grim milestone is fast approaching. The United Nations (UN) says around 9,700 civilians have been killed in Ukraine since the full-scale Russian invasion 21 months ago.\\n\\nSome of the Palestinian dead would have been part of Hamas. But even if that proportion is as high as 10%, which is unlikely, it means that Israel is on course to have killed as many Palestinian civilians in just over a month as Russia has killed in Ukraine since February 2022. (The UN says its data for Ukraine is incomplete and the true number of civilians killed is likely higher, while in Gaza the number of dead is also likely to be higher as many Palestinians are believed to be buried under rubble).\\n\\nThe UN has suggested Israeli strikes on Gaza could constitute war crimes\\n\\nThe UN human rights office has said that so many civilians have been killed and wounded in Israeli air strikes that it has serious concerns that the attacks are disproportionate and could be war crimes.\\n\\nFrom the first days after the Hamas attacks, President Biden has supported Israel\\'s decision to use military force to remove Hamas from power. But he has also added the qualification that it needed to be done \"the right way\". He meant that Israel should observe the laws of war that protect civilians.\\n\\nThe US Secretary of State Antony Blinken has arrived in Tel Aviv. Before he took off, he said: \"When I see a Palestinian child - a boy, a girl - pulled from the rubble of a collapsed building, that hits me in the gut as much as seeing a child from Israel or anywhere else.\"\\n\\nI have reported on all of Israel\\'s wars in the last 30 years. I do not remember a US administration stating so publicly that Israel needs to observe the laws of war. Blinken\\'s visit suggests that he believes Israel is not following Biden\\'s advice.\\n\\nSomething else we know for certain is that Israeli Prime Minister Benjamin Netanyahu is under great pressure.\\n\\nUnlike Israel\\'s security and military chiefs, he has not accepted any personal responsibility for the catastrophic series of failures that left Israeli border communities virtually undefended on 7 October.\\n\\nLast Sunday, 29 October, he caused uproar when he sent out a tweet blaming the intelligence agencies. Mr Netanyahu deleted the message and apologised.\\n\\nThe Israeli PM has taken the blame from some quarters for the events of 7 October\\n\\nThree Israelis, a former peace negotiator, the ex-head of the Shin Bet (Israel\\'s internal intelligence agency) and a tech entrepreneur, wrote an article in the journal Foreign Affairs saying that Mr Netanyahu should not have any part of the war and whatever follows. The Israeli PM has loyal supporters, but he has lost the confidence of prominent figures in Israel\\'s military and security establishment.\\n\\nNoam Tibon, the retired general who fought his way into kibbutz Nahal Oz to rescue his family, compares Mr Netanyahu to Neville Chamberlain, the British prime minister who was forced to resign in 1940, and replaced by Winston Churchill.\\n\\nTibon told me: \"This is the biggest failure in the history of the state of Israel. It was a military failure. It was an intelligence failure. And it was the failure of the government… the one really in charge - and all the blame is on him - is the prime minister, Benjamin Netanyahu… He is in charge of the biggest failure in the history of Israel.\"\\n\\nIt is also clear that the old status quo has been smashed. It was unpleasant and dangerous, but it seemed to have a certain grimly-familiar stability. Since the end of the last Palestinian uprising around 2005 a pattern has emerged that Mr Netanyahu believed could be sustained indefinitely. That was a dangerous illusion, for all concerned - Palestinians as well as Israelis.\\n\\nThe argument went that the Palestinians were no longer a threat to Israel. Instead, they were a problem to be managed. The tools available include sticks, carrots and the ancient tactic of \"divide and rule\".\\n\\nMr Netanyahu, who has been prime minister for most of the time since 2009 - after an earlier spell between 1996 and 1999 - has argued consistently that Israel does not have a partner for peace.\\n\\nPotentially, it did. The Palestinian Authority (PA), which is the main rival to Hamas, is a deeply flawed organisation, and many who support it believe its aged President Mahmoud Abbas needs to step aside. But it accepted the idea of establishing a Palestinian state alongside Israel back in the 1990s.\\n\\nMr Netanyahu has tried to drive a wedge between Hamas and the Palestinian Authority, led by Mahmoud Abbas (pictured right, with US Secretary of State Antony Blinken)\\n\\n\"Divide and rule\" for Mr Netanyahu meant allowing Hamas to build its power in Gaza at the expense of the PA.\\n\\nWhile Israel\\'s longest-serving prime minister is always careful about what he says in public, his actions over many years show that he does not want to allow the Palestinians to have an independent state. That would involve giving up land in the West Bank, including East Jerusalem, which the Israeli right wing believes belongs to the Jews.\\n\\nFrom time to time, Mr Netanyahu\\'s pronouncements would leak. In 2019, a number of Israeli sources say that he told a group of his Likud members of parliament that if they opposed a Palestinian state they should support schemes to pump money - mostly provided by Qatar - into Gaza. He told them that deepening the division between Hamas in Gaza and the PA in the West Bank would make it impossible to establish a state.\\n\\nIt is also clear that Israel, backed by the Americans, will not tolerate a deal that allows Hamas to stay in power. That guarantees a lot more bloodshed. It also raises big questions about what or who replaces them, which so far have not been answered.\\n\\nThe conflict between Arabs and Jews for control of the land between the river Jordan and the Mediterranean Sea has lasted for more than 100 years. One lesson of its long and bloody history is that there will never be a military solution.\\n\\nIn the 1990s, the Oslo peace process was established to try to end the conflict by establishing a Palestinian state with a capital in East Jerusalem alongside Israel. The last attempt to revive it, after years of on-off negotiations, happened during the Obama administration. It failed a decade ago, and since then the conflict has been allowed to fester.\\n\\nMore than 20 Israeli soldiers have been killed since Israel began a ground operation in Gaza\\n\\nAs President Biden and many others have said, the only possible chance for avoiding more wars is to establish a Palestinian state alongside Israel. That will not be possible with the current leaders on either side. Extremists, both Israeli and Palestinian, would do all they could to scupper the idea, as they have done since the 1990s. Some of them believe they are following the will of God, which makes it impossible to persuade them to accept a secular compromise.\\n\\nBut if this war does not deliver enough of a shock to break deeply-held prejudices and to make the idea of two states viable, nothing will. And without a mutually-acceptable way of ending the conflict, more generations of Palestinians and Israelis will be sentenced to more wars.',\n",
       " 'Article Title: Israel says UN resolution damaged Gaza ceasefire talks - BBC News\\nArticle Body :Displaced Palestinians were reportedly killed in an overnight Israeli air strike on a building in Rafah\\n\\nIsrael says Hamas\\'s rejection of a current proposal for a Gaza truce deal with Israel shows the \"damage\" done by the UN Security Council resolution demanding an immediate ceasefire.\\n\\nPrime Minister Benjamin Netanyahu\\'s office said Israel would not surrender to what it called the Palestinian armed group\\'s \"delusional demands\".\\n\\nThey include an end to the war and the complete withdrawal of Israeli forces.\\n\\nThe US called the Israeli statement \"inaccurate in almost every respect\".\\n\\nA state department spokesman insisted that Hamas\\'s response had been prepared before the Security Council vote on Monday.\\n\\nThe Israeli military meanwhile said it had confirmed that the deputy leader of Hamas\\'s military wing, Marwan Issa, was killed in a strike on a tunnel complex beneath Nuseirat refugee camp about two weeks ago.\\n\\n\"We have checked all the intelligence,\" spokesman Rear Admiral Daniel Hagari said. \"Marwan Issa was eliminated in the strike.\"\\n\\nHamas political official Izzat al-Rishq said he had \"no confidence\" in the Israeli claim and that the group\\'s military leadership would have the \"final say\".\\n\\nRear Admiral Hagari described Issa as the group\\'s \"number three\" and \"one of the organisers\" of Hamas\\'s attacks on southern Israel on 7 October, when about 1,200 people were killed and 253 others taken hostage.\\n\\nMore than 32,400 people have been killed in Gaza since then, including 81 people in the past 24 hours, according to the Hamas-run health ministry.\\n\\nIsrael reacted furiously after the UN Security Council adopted for the first time a resolution calling for an immediate ceasefire in the war in Gaza following months of deadlock over the issue.\\n\\nFourteen council members, including the UK, voted in favour of the text, which also demanded the unconditional release of all remaining hostages and an urgent expansion of humanitarian aid deliveries.\\n\\nThe US - Israel\\'s closest ally and military supporter - criticised the resolution for failing to condemn Hamas for the 7 October attacks.\\n\\nBut in a sign of its increasing frustration at the way Israel is conducting the war, the US abstained, saying it fully supported the key objectives.\\n\\nIn protest, Israel cancelled a planned visit by an Israeli delegation to Washington to discuss its planned ground offensive in the southern city of Rafah, where more than a million people have sought shelter. The US has warned that a full-scale assault could cause a humanitarian catastrophe.\\n\\nLater, Hamas put out a statement rejecting the latest truce plan put forward by mediators from the US, Qatar and Egypt at indirect talks in Doha.\\n\\nThe group said it was sticking to its original demands for \"a permanent ceasefire that would lead to a full withdrawal\" of Israeli forces from Gaza and the return of displaced Palestinians to their homes.\\n\\nOn Tuesday morning, the Israeli prime minister\\'s office said Hamas\\'s stance \"clearly demonstrates its utter disinterest in a negotiated deal and attests to the damage done by the UN Security Council\\'s resolution\".\\n\\n\"Israel will not address Hamas\\'s delusional demands,\" it added. \"Israel will pursue and achieve its just war objectives: Destroying Hamas\\'s military and governmental capacities, release of all the hostages, and ensuring Gaza will not pose a threat to the people of Israel in the future.\"\\n\\nThe UK was one of 14 countries who voted in favour of the Security Council resolution, while the US abstained\\n\\nBut US state department spokesman Matthew Miller rejected the criticism.\\n\\n\"That statement is inaccurate in almost every respect and it is unfair to the hostages and their families,\" he told reporters in Washington.\\n\\n\"The description of Hamas\\'s response that has been aired in the public is all from news reports. It\\'s not the actual substance of the response. I can tell you that response was prepared before the UN Security Council vote, not after it.\"\\n\\nQatar\\'s foreign ministry spokesman, Majed al-Ansari, told a news conference in Doha that the indirect talks \"are ongoing, they have not stopped\".\\n\\n\"There is no timetable for negotiations, but we are continuing with our partners in mediation efforts,\" he said, adding that they were currently taking place \"at the level of technical teams\".\\n\\nHowever, Israeli media and Reuters news agency cited Israeli officials as saying that Israel had recalled its negotiating team from Qatar after 10 days of talks.\\n\\nHamas\\'s political leader, Ismail Haniyeh, said during a visit to Iran - which arms and funds the group - that the resolution showed Israel was experiencing \"unprecedented political isolation\".\\n\\nDuring a week-long ceasefire in late November, 105 hostages were freed in return for some 240 Palestinian prisoners in Israeli jails.\\n\\nThe latest deal rejected by Hamas reportedly proposed a six-week pause in the fighting and the release of 40 of the hostages still being held by Hamas in exchange for as many as 800 Palestinian prisoners.\\n\\nThere was no indication of a let-up in the war on the ground in Gaza, with the latest Israeli air strikes reportedly killing dozens of Palestinians.\\n\\nPalestinian media and local health officials said at least 18 people, including nine children, were killed in a strike on a residential building on the outskirts of Rafah. They said the home in the Musabah area belonged to the Abu Naqira family and that dozens of displaced people had been sheltering there.\\n\\nIn northern Gaza, members of the Abu Hasira family told Reuters news agency that about 30 people had been killed in a strike on a family compound near Gaza City\\'s al-Shifa hospital.\\n\\nIsrael\\'s military said on Tuesday morning that it had struck 60 targets over the previous 24 hours, including \"terror tunnels, terrorist infrastructure, and military structures in which armed terrorists were identified\".\\n\\nIt added that Israeli forces were also \"continuing to conduct precise operational activity in the al-Shifa hospital area\", eight days after they began a raid targeting Hamas and Islamic Jihad fighters it said had regrouped there.\\n\\nPalestinians and aid groups say the fierce fighting is endangering patients, medics and displaced civilians trapped inside with few supplies. The military said 175 \"terrorists\" have been killed and that no civilians have been harmed.\\n\\nThis video can not be played To play this video you need to enable JavaScript in your browser. Watch: Gazans reportedly drown after video shows rush for aid drop that landed in sea\\n\\nAlso on Tuesday, Gaza\\'s Hamas-run government media office said 18 Palestinians had been killed while trying to collect aid that was airdropped over northern Gaza, amid warnings of an imminent famine there.\\n\\nTwelve people drowned when they went in the sea to retrieve food packages, according to a statement. The other six were trampled to death in \"stampedes\" when other aid packages landed on the ground, it said.\\n\\nThe statement provided no further details about the incidents. However, video footage appeared to show the drowning of at least one person after an airdrop off a beach near the northern town of Beit Lahia on Monday.\\n\\nThe Pentagon said three of the 18 bundles of aid airdropped by US aircraft over northern Gaza on Monday had parachute malfunctions and fell into the water, but could not confirm if anyone was killed, Reuters reported.\\n\\nIn another development, the family of Israeli hostage Uriel Baruch was informed by the military that he had been killed and that his body was being held by Hamas, according to the Hostage and Missing Families Forum.\\n\\nThe 35-year-old father of two was injured and kidnapped during the attack on the Supernova music festival on 7 October.\\n\\nMeanwhile, a female hostage who was released in November told the New York Times that she was sexually assaulted at gunpoint by a guard in Gaza.\\n\\nAmit Soussana, 40, is the first former hostage to say publicly that she was sexually abused in captivity, according to the newspaper.\\n\\nHamas has denied that its members have sexually abused people in captivity. But this month, a UN team said it found \"clear and convincing information\" that hostages had been subjected to sexual violence and that there were \"reasonable grounds to believe that such violence may be ongoing\".',\n",
       " 'Article Title: Israel cancels Washington meeting after UN Gaza ceasefire vote - BBC News\\nArticle Body :Israel has cancelled a meeting in Washington after the US declined to veto a UN Security Council resolution calling for a ceasefire in Gaza.\\n\\nThe resolution, which also called for the release of all hostages, followed several failed attempts at similar measures since the 7 October attacks.\\n\\nIsraeli Prime Minister Benjamin Netanyahu accused the US of having \"abandoned\" its previous policy.\\n\\nMeanwhile intense fighting rages between Israel and Hamas in Gaza.\\n\\nThe UN Security Council\\'s first resolution demanding an immediate ceasefire came after calls for urgent action to avert a famine in Gaza.\\n\\nSince the start of the conflict, the US has used its veto power to block three Security Council resolutions calling for pauses in the fighting or a ceasefire. Another two have been vetoed by both Russia and China.\\n\\nOn Monday, the US abstained on a resolution that called for an \"immediate\" ceasefire for the rest of the month of Ramadan - two weeks - and the \"immediate and unconditional release of all hostages\".\\n\\nThe 14 other members of the council, including the UK, voted in favour, meaning the resolution passed.\\n\\nWhile Washington has taken an increasingly tougher stance on Israel it insisted its abstention did not mark a shift in policy.\\n\\nBut Mr Netanyahu said the UN resolution did not make the demand for a ceasefire conditional on the release of the hostages, as the US and Israel had both argued it should.\\n\\nIsrael believes Hamas and its allies are still holding about 130 hostages in Gaza, including 33 presumed dead.\\n\\n\"Today\\'s resolution gives Hamas hope that international pressure will force Israel to accept a ceasefire without the release of our hostages, thus harming both the war effort and the effort to release the hostages,\" Mr Netanyahu\\'s office said in a statement.\\n\\nIt added that, \"in light of the change in the US position\", a visit by an Israeli delegation to the US this week would not go ahead.\\n\\nIsraeli and US officials had been due to meet to discuss Israel\\'s planned offensive in the southern Gaza city of Rafah, where some 1.5 million Palestinians have sought shelter, having fled the fighting elsewhere in Gaza.\\n\\nUS Secretary of State Antony Blinken has said publicly that a ground operation in Rafah risks killing more civilians and is \"not the way\" to defeat Hamas.\\n\\nOn the ground there was no indication of a let up in hostilities, as Israeli warplanes continued to bomb Rafah.\\n\\nFierce gun battles also raged around hospitals in nearby Khan Younis and Gaza City. Rocket warning sirens also sounded in Israeli border towns.\\n\\nResponding to Mr Netanyahu\\'s decision to cancel the Israeli delegation\\'s visit to Washington, US National Security Council spokesman John Kirby said it was \"disappointing\" but reiterated the US view that \"a major ground offensive in Rafah would be a major mistake\".\\n\\nMr Kirby said that scheduled meetings between Israeli Defence Minister Yoav Gallant and US National Security Advisor Jake Sullivan would go ahead as planned.\\n\\nYair Lapid, Israel\\'s opposition leader and former prime minister, criticised Mr Netanyahu\\'s decision, described the episode as \"unnecessary\" and said Mr Netanyahu had been \"irresponsible\".\\n\\n\"Bad for Israel. Bad for security, bad for the economy,\" he said on X, formerly Twitter.\\n\\n\"Sometimes you have to say \\'no\\' to the Americans. Israel is indeed an independent country, and we do not need anyone\\'s permission to defend ourselves. [But] it is better to keep the quarrels in closed rooms.\"\\n\\nUN Security Council resolutions are widely considered to be legally binding on UN member states, although the US has said it does not consider Monday\\'s vote to be binding on Israel.\\n\\nMr Gallant has said Israel will not stop the war in Gaza while hostages are still being held there. The hostages were seized when Hamas attacked southern Israel on 7 October, killing about 1,200 people, most of them civilians.\\n\\nThe Palestinian representative to the UN, Riyad Mansour, welcomed the resolution but said it was overdue.\\n\\n\"It has taken six months, over 100,000 Palestinians killed and maimed, two million displaced, and famine, for this council to finally demand an immediate ceasefire,\" he said.\\n\\nHamas has welcomed the vote, but also told mediators it was sticking to its original demands for a comprehensive ceasefire which include the withdrawal of Israeli troops from Gaza and a return of displaced Palestinians to the north of the Strip.\\n\\nThe Israeli Prime Minister\\'s Office described this as \"unrealistic.\"\\n\\nTalks between Israeli and Hamas representatives continue via mediators in Qatar. Reports suggest that a deal currently being proposed would see 40 Israeli hostages released in exchange for 800 Palestinian prisoners.\\n\\nBritish aid is dropped from an RAF plane over Gaza on Monday\\n\\nMonday\\'s resolution came amid huge concern over the dire humanitarian situation in Gaza.\\n\\nLast week, Mr Blinken warned that the entire population of Gaza was experiencing \"severe levels of acute food insecurity\".\\n\\nThe UN World Food Programme has also warned that, in Gaza\\'s two northern governorates, famine is expected to set in by May unless the flow of aid into the territory is increased.\\n\\nFollowing Monday\\'s vote, UN Secretary-General António Guterres said the resolution \"must be implemented\" and that \"failure would be unforgivable\".\\n\\nEarly on Tuesday, the British government announced that it had carried out its first airdrop of food into Gaza.\\n\\nIt said the Royal Air Force drop included 10 tonnes of supplies: water, rice, cooking oil, flour, tinned goods and baby formula.\\n\\nIt also repeated calls on Israel to allow more aid in via Gaza\\'s ports and to open more land crossings into the territory.']"
      ]
     },
     "execution_count": 12,
     "metadata": {},
     "output_type": "execute_result"
    }
   ],
   "source": [
    "similar_topics, similarity = topic_model.find_topics(\"Israel Palestine War\", top_n=5)\n",
    "topic_model.get_representative_docs(similar_topics[0])"
   ]
  }
 ],
 "metadata": {
  "kernelspec": {
   "display_name": "afganistan_news-iJBxg4na",
   "language": "python",
   "name": "python3"
  },
  "language_info": {
   "codemirror_mode": {
    "name": "ipython",
    "version": 3
   },
   "file_extension": ".py",
   "mimetype": "text/x-python",
   "name": "python",
   "nbconvert_exporter": "python",
   "pygments_lexer": "ipython3",
   "version": "3.11.6"
  }
 },
 "nbformat": 4,
 "nbformat_minor": 2
}
