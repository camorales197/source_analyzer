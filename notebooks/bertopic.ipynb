{
 "cells": [
  {
   "cell_type": "code",
   "execution_count": 2,
   "metadata": {},
   "outputs": [],
   "source": [
    "%load_ext autoreload\n",
    "%autoreload 2"
   ]
  },
  {
   "cell_type": "code",
   "execution_count": 3,
   "metadata": {},
   "outputs": [],
   "source": [
    "from bertopic import BERTopic\n",
    "import pandas as pd \n",
    "from transformers.pipelines import pipeline\n",
    "import os\n"
   ]
  },
  {
   "cell_type": "markdown",
   "metadata": {},
   "source": [
    "# Loading articles"
   ]
  },
  {
   "cell_type": "code",
   "execution_count": 4,
   "metadata": {},
   "outputs": [
    {
     "data": {
      "text/html": [
       "<div>\n",
       "<style scoped>\n",
       "    .dataframe tbody tr th:only-of-type {\n",
       "        vertical-align: middle;\n",
       "    }\n",
       "\n",
       "    .dataframe tbody tr th {\n",
       "        vertical-align: top;\n",
       "    }\n",
       "\n",
       "    .dataframe thead th {\n",
       "        text-align: right;\n",
       "    }\n",
       "</style>\n",
       "<table border=\"1\" class=\"dataframe\">\n",
       "  <thead>\n",
       "    <tr style=\"text-align: right;\">\n",
       "      <th></th>\n",
       "      <th>title</th>\n",
       "      <th>published_date</th>\n",
       "      <th>authors</th>\n",
       "      <th>description</th>\n",
       "      <th>section</th>\n",
       "      <th>content</th>\n",
       "      <th>link</th>\n",
       "      <th>top_image</th>\n",
       "    </tr>\n",
       "  </thead>\n",
       "  <tbody>\n",
       "    <tr>\n",
       "      <th>0</th>\n",
       "      <td>Saido Berahino: Stoke complete deal to sign We...</td>\n",
       "      <td>2017-01-21</td>\n",
       "      <td>None</td>\n",
       "      <td>Stoke sign West Brom striker Saido Berahino fo...</td>\n",
       "      <td>None</td>\n",
       "      <td>Last updated on .From the section Football\\n\\n...</td>\n",
       "      <td>http://www.bbc.co.uk/sport/football/38696547</td>\n",
       "      <td>https://ichef.bbci.co.uk/onesport/cps/624/cpsp...</td>\n",
       "    </tr>\n",
       "  </tbody>\n",
       "</table>\n",
       "</div>"
      ],
      "text/plain": [
       "                                               title published_date authors  \\\n",
       "0  Saido Berahino: Stoke complete deal to sign We...     2017-01-21    None   \n",
       "\n",
       "                                         description section  \\\n",
       "0  Stoke sign West Brom striker Saido Berahino fo...    None   \n",
       "\n",
       "                                             content  \\\n",
       "0  Last updated on .From the section Football\\n\\n...   \n",
       "\n",
       "                                           link  \\\n",
       "0  http://www.bbc.co.uk/sport/football/38696547   \n",
       "\n",
       "                                           top_image  \n",
       "0  https://ichef.bbci.co.uk/onesport/cps/624/cpsp...  "
      ]
     },
     "execution_count": 4,
     "metadata": {},
     "output_type": "execute_result"
    }
   ],
   "source": [
    "df_articles = pd.read_parquet(\"../files/bbc_news.parquet\", engine=\"pyarrow\")\n",
    "df_articles.head(1)\n"
   ]
  },
  {
   "cell_type": "code",
   "execution_count": 14,
   "metadata": {},
   "outputs": [],
   "source": [
    "df_articles = df_articles.drop_duplicates('content').reset_index(drop=True)"
   ]
  },
  {
   "cell_type": "code",
   "execution_count": 15,
   "metadata": {},
   "outputs": [],
   "source": [
    "df_articles['text'] = df_articles.apply(lambda x: 'Article Title: ' + x['title'] + '\\n' + \"Article Body :\" + x['content'], axis=1)"
   ]
  },
  {
   "cell_type": "code",
   "execution_count": 16,
   "metadata": {},
   "outputs": [],
   "source": [
    "docs = df_articles['text'].tolist()"
   ]
  },
  {
   "cell_type": "code",
   "execution_count": 9,
   "metadata": {},
   "outputs": [
    {
     "name": "stdout",
     "output_type": "stream",
     "text": [
      "Article Title: Saido Berahino: Stoke complete deal to sign West Brom's 23-year-old striker - BBC Sport\n",
      "Article Body :Last updated on .From the section Football\n",
      "\n",
      "Stoke have signed West Brom striker Sai\n"
     ]
    }
   ],
   "source": [
    "print(docs[0][0:200])"
   ]
  },
  {
   "cell_type": "markdown",
   "metadata": {},
   "source": [
    "# Training Bertopic"
   ]
  },
  {
   "cell_type": "code",
   "execution_count": 8,
   "metadata": {},
   "outputs": [],
   "source": [
    "topic_model = BERTopic()"
   ]
  },
  {
   "cell_type": "code",
   "execution_count": 9,
   "metadata": {},
   "outputs": [
    {
     "name": "stderr",
     "output_type": "stream",
     "text": [
      "huggingface/tokenizers: The current process just got forked, after parallelism has already been used. Disabling parallelism to avoid deadlocks...\n",
      "To disable this warning, you can either:\n",
      "\t- Avoid using `tokenizers` before the fork if possible\n",
      "\t- Explicitly set the environment variable TOKENIZERS_PARALLELISM=(true | false)\n",
      "huggingface/tokenizers: The current process just got forked, after parallelism has already been used. Disabling parallelism to avoid deadlocks...\n",
      "To disable this warning, you can either:\n",
      "\t- Avoid using `tokenizers` before the fork if possible\n",
      "\t- Explicitly set the environment variable TOKENIZERS_PARALLELISM=(true | false)\n",
      "huggingface/tokenizers: The current process just got forked, after parallelism has already been used. Disabling parallelism to avoid deadlocks...\n",
      "To disable this warning, you can either:\n",
      "\t- Avoid using `tokenizers` before the fork if possible\n",
      "\t- Explicitly set the environment variable TOKENIZERS_PARALLELISM=(true | false)\n",
      "huggingface/tokenizers: The current process just got forked, after parallelism has already been used. Disabling parallelism to avoid deadlocks...\n",
      "To disable this warning, you can either:\n",
      "\t- Avoid using `tokenizers` before the fork if possible\n",
      "\t- Explicitly set the environment variable TOKENIZERS_PARALLELISM=(true | false)\n",
      "huggingface/tokenizers: The current process just got forked, after parallelism has already been used. Disabling parallelism to avoid deadlocks...\n",
      "To disable this warning, you can either:\n",
      "\t- Avoid using `tokenizers` before the fork if possible\n",
      "\t- Explicitly set the environment variable TOKENIZERS_PARALLELISM=(true | false)\n"
     ]
    }
   ],
   "source": [
    "topics, probs = topic_model.fit_transform(docs)"
   ]
  },
  {
   "cell_type": "markdown",
   "metadata": {},
   "source": [
    "# Pushing model to Hugging Face \n"
   ]
  },
  {
   "cell_type": "code",
   "execution_count": 10,
   "metadata": {},
   "outputs": [
    {
     "data": {
      "application/vnd.jupyter.widget-view+json": {
       "model_id": "61da355a347c4d0b85382e849e399bd9",
       "version_major": 2,
       "version_minor": 0
      },
      "text/plain": [
       "ctfidf.safetensors:   0%|          | 0.00/52.1M [00:00<?, ?B/s]"
      ]
     },
     "metadata": {},
     "output_type": "display_data"
    },
    {
     "data": {
      "application/vnd.jupyter.widget-view+json": {
       "model_id": "ed68926fcddd486faa370a85b4f4da82",
       "version_major": 2,
       "version_minor": 0
      },
      "text/plain": [
       "topic_embeddings.safetensors:   0%|          | 0.00/2.02M [00:00<?, ?B/s]"
      ]
     },
     "metadata": {},
     "output_type": "display_data"
    },
    {
     "data": {
      "application/vnd.jupyter.widget-view+json": {
       "model_id": "af9c412cddd940f9b3952766b0d69d2c",
       "version_major": 2,
       "version_minor": 0
      },
      "text/plain": [
       "Upload 2 LFS files:   0%|          | 0/2 [00:00<?, ?it/s]"
      ]
     },
     "metadata": {},
     "output_type": "display_data"
    },
    {
     "data": {
      "text/plain": [
       "CommitInfo(commit_url='https://huggingface.co/CarlosMorales/bbc_news_topics/commit/c84783a40b94a70e3d127c46228d183d9bab9272', commit_message='Add BERTopic model', commit_description='', oid='c84783a40b94a70e3d127c46228d183d9bab9272', pr_url=None, pr_revision=None, pr_num=None)"
      ]
     },
     "execution_count": 10,
     "metadata": {},
     "output_type": "execute_result"
    }
   ],
   "source": [
    "# topic_model.push_to_hf_hub(\n",
    "    \"CarlosMorales/bbc_news_topics\",\n",
    "    save_ctfidf=True,\n",
    "    save_embedding_model=\"sentence-transformers/all-MiniLM-L6-v2\"\n",
    ")"
   ]
  },
  {
   "cell_type": "markdown",
   "metadata": {},
   "source": [
    "# Loading model from HF "
   ]
  },
  {
   "cell_type": "code",
   "execution_count": 7,
   "metadata": {},
   "outputs": [],
   "source": [
    "topic_model = BERTopic.load(\"CarlosMorales/bbc_news_topics\")\n"
   ]
  },
  {
   "cell_type": "markdown",
   "metadata": {},
   "source": [
    "# Finding articles about conflicts "
   ]
  },
  {
   "cell_type": "code",
   "execution_count": 13,
   "metadata": {},
   "outputs": [
    {
     "ename": "TypeError",
     "evalue": "Make sure to supply a list of strings, not a dataframe.",
     "output_type": "error",
     "traceback": [
      "\u001b[0;31m---------------------------------------------------------------------------\u001b[0m",
      "\u001b[0;31mTypeError\u001b[0m                                 Traceback (most recent call last)",
      "Cell \u001b[0;32mIn[13], line 1\u001b[0m\n\u001b[0;32m----> 1\u001b[0m bertopic_docs \u001b[38;5;241m=\u001b[39m \u001b[43mtopic_model\u001b[49m\u001b[38;5;241;43m.\u001b[39;49m\u001b[43mget_document_info\u001b[49m\u001b[43m(\u001b[49m\u001b[43mdf_articles\u001b[49m\u001b[43m)\u001b[49m\n\u001b[1;32m      2\u001b[0m bertopic_docs\n",
      "File \u001b[0;32m~/.local/share/virtualenvs/afganistan_news-iJBxg4na/lib/python3.10/site-packages/bertopic/_bertopic.py:1627\u001b[0m, in \u001b[0;36mBERTopic.get_document_info\u001b[0;34m(self, docs, df, metadata)\u001b[0m\n\u001b[1;32m   1573\u001b[0m \u001b[38;5;28;01mdef\u001b[39;00m \u001b[38;5;21mget_document_info\u001b[39m(\u001b[38;5;28mself\u001b[39m,\n\u001b[1;32m   1574\u001b[0m                       docs: List[\u001b[38;5;28mstr\u001b[39m],\n\u001b[1;32m   1575\u001b[0m                       df: pd\u001b[38;5;241m.\u001b[39mDataFrame \u001b[38;5;241m=\u001b[39m \u001b[38;5;28;01mNone\u001b[39;00m,\n\u001b[1;32m   1576\u001b[0m                       metadata: Mapping[\u001b[38;5;28mstr\u001b[39m, Any] \u001b[38;5;241m=\u001b[39m \u001b[38;5;28;01mNone\u001b[39;00m) \u001b[38;5;241m-\u001b[39m\u001b[38;5;241m>\u001b[39m pd\u001b[38;5;241m.\u001b[39mDataFrame:\n\u001b[1;32m   1577\u001b[0m \u001b[38;5;250m    \u001b[39m\u001b[38;5;124;03m\"\"\" Get information about the documents on which the topic was trained\u001b[39;00m\n\u001b[1;32m   1578\u001b[0m \u001b[38;5;124;03m    including the documents themselves, their respective topics, the name\u001b[39;00m\n\u001b[1;32m   1579\u001b[0m \u001b[38;5;124;03m    of each topic, the top n words of each topic, whether it is a\u001b[39;00m\n\u001b[0;32m   (...)\u001b[0m\n\u001b[1;32m   1625\u001b[0m \u001b[38;5;124;03m    ```\u001b[39;00m\n\u001b[1;32m   1626\u001b[0m \u001b[38;5;124;03m    \"\"\"\u001b[39;00m\n\u001b[0;32m-> 1627\u001b[0m     \u001b[43mcheck_documents_type\u001b[49m\u001b[43m(\u001b[49m\u001b[43mdocs\u001b[49m\u001b[43m)\u001b[49m\n\u001b[1;32m   1628\u001b[0m     \u001b[38;5;28;01mif\u001b[39;00m df \u001b[38;5;129;01mis\u001b[39;00m \u001b[38;5;129;01mnot\u001b[39;00m \u001b[38;5;28;01mNone\u001b[39;00m:\n\u001b[1;32m   1629\u001b[0m         document_info \u001b[38;5;241m=\u001b[39m df\u001b[38;5;241m.\u001b[39mcopy()\n",
      "File \u001b[0;32m~/.local/share/virtualenvs/afganistan_news-iJBxg4na/lib/python3.10/site-packages/bertopic/_utils.py:40\u001b[0m, in \u001b[0;36mcheck_documents_type\u001b[0;34m(documents)\u001b[0m\n\u001b[1;32m     38\u001b[0m \u001b[38;5;250m\u001b[39m\u001b[38;5;124;03m\"\"\" Check whether the input documents are indeed a list of strings \"\"\"\u001b[39;00m\n\u001b[1;32m     39\u001b[0m \u001b[38;5;28;01mif\u001b[39;00m \u001b[38;5;28misinstance\u001b[39m(documents, pd\u001b[38;5;241m.\u001b[39mDataFrame):\n\u001b[0;32m---> 40\u001b[0m     \u001b[38;5;28;01mraise\u001b[39;00m \u001b[38;5;167;01mTypeError\u001b[39;00m(\u001b[38;5;124m\"\u001b[39m\u001b[38;5;124mMake sure to supply a list of strings, not a dataframe.\u001b[39m\u001b[38;5;124m\"\u001b[39m)\n\u001b[1;32m     41\u001b[0m \u001b[38;5;28;01melif\u001b[39;00m \u001b[38;5;28misinstance\u001b[39m(documents, Iterable) \u001b[38;5;129;01mand\u001b[39;00m \u001b[38;5;129;01mnot\u001b[39;00m \u001b[38;5;28misinstance\u001b[39m(documents, \u001b[38;5;28mstr\u001b[39m):\n\u001b[1;32m     42\u001b[0m     \u001b[38;5;28;01mif\u001b[39;00m \u001b[38;5;129;01mnot\u001b[39;00m \u001b[38;5;28many\u001b[39m([\u001b[38;5;28misinstance\u001b[39m(doc, \u001b[38;5;28mstr\u001b[39m) \u001b[38;5;28;01mfor\u001b[39;00m doc \u001b[38;5;129;01min\u001b[39;00m documents]):\n",
      "\u001b[0;31mTypeError\u001b[0m: Make sure to supply a list of strings, not a dataframe."
     ]
    }
   ],
   "source": [
    "bertopic_docs = topic_model.get_document_info(df_articles)\n",
    "bertopic_docs"
   ]
  },
  {
   "cell_type": "code",
   "execution_count": 30,
   "metadata": {},
   "outputs": [],
   "source": [
    "ukraine = {\n",
    "    'start_date': '2022-02-24',\n",
    "    'topic_name': 'Ukraine Russia War',\n",
    "}\n",
    "palestine = {\n",
    "    'start_date': '2022-10-07',\n",
    "    'topic_name': 'Israel Palestine War',\n",
    "}\n",
    "\n",
    "list_conflicts = [ukraine, palestine]"
   ]
  },
  {
   "cell_type": "code",
   "execution_count": 31,
   "metadata": {},
   "outputs": [
    {
     "data": {
      "text/html": [
       "<div>\n",
       "<style scoped>\n",
       "    .dataframe tbody tr th:only-of-type {\n",
       "        vertical-align: middle;\n",
       "    }\n",
       "\n",
       "    .dataframe tbody tr th {\n",
       "        vertical-align: top;\n",
       "    }\n",
       "\n",
       "    .dataframe thead th {\n",
       "        text-align: right;\n",
       "    }\n",
       "</style>\n",
       "<table border=\"1\" class=\"dataframe\">\n",
       "  <thead>\n",
       "    <tr style=\"text-align: right;\">\n",
       "      <th></th>\n",
       "      <th>title</th>\n",
       "      <th>published_date</th>\n",
       "      <th>authors</th>\n",
       "      <th>description</th>\n",
       "      <th>section</th>\n",
       "      <th>content</th>\n",
       "      <th>link</th>\n",
       "      <th>top_image</th>\n",
       "      <th>text</th>\n",
       "      <th>Document</th>\n",
       "      <th>Topic</th>\n",
       "      <th>Name</th>\n",
       "      <th>Representation</th>\n",
       "      <th>Representative_Docs</th>\n",
       "      <th>Top_n_words</th>\n",
       "      <th>Representative_document</th>\n",
       "    </tr>\n",
       "  </thead>\n",
       "  <tbody>\n",
       "    <tr>\n",
       "      <th>0</th>\n",
       "      <td>Saido Berahino: Stoke complete deal to sign We...</td>\n",
       "      <td>2017-01-21</td>\n",
       "      <td>None</td>\n",
       "      <td>Stoke sign West Brom striker Saido Berahino fo...</td>\n",
       "      <td>None</td>\n",
       "      <td>Last updated on .From the section Football\\n\\n...</td>\n",
       "      <td>http://www.bbc.co.uk/sport/football/38696547</td>\n",
       "      <td>https://ichef.bbci.co.uk/onesport/cps/624/cpsp...</td>\n",
       "      <td>Article Title: Saido Berahino: Stoke complete ...</td>\n",
       "      <td>Article Title: Saido Berahino: Stoke complete ...</td>\n",
       "      <td>-1</td>\n",
       "      <td>-1_and_her_was_of</td>\n",
       "      <td>[and, her, was, of, to, is, content, for, she,...</td>\n",
       "      <td>NaN</td>\n",
       "      <td>and - her - was - of - to - is - content - for...</td>\n",
       "      <td>False</td>\n",
       "    </tr>\n",
       "  </tbody>\n",
       "</table>\n",
       "</div>"
      ],
      "text/plain": [
       "                                               title published_date authors  \\\n",
       "0  Saido Berahino: Stoke complete deal to sign We...     2017-01-21    None   \n",
       "\n",
       "                                         description section  \\\n",
       "0  Stoke sign West Brom striker Saido Berahino fo...    None   \n",
       "\n",
       "                                             content  \\\n",
       "0  Last updated on .From the section Football\\n\\n...   \n",
       "\n",
       "                                           link  \\\n",
       "0  http://www.bbc.co.uk/sport/football/38696547   \n",
       "\n",
       "                                           top_image  \\\n",
       "0  https://ichef.bbci.co.uk/onesport/cps/624/cpsp...   \n",
       "\n",
       "                                                text  \\\n",
       "0  Article Title: Saido Berahino: Stoke complete ...   \n",
       "\n",
       "                                            Document  Topic  \\\n",
       "0  Article Title: Saido Berahino: Stoke complete ...     -1   \n",
       "\n",
       "                Name                                     Representation  \\\n",
       "0  -1_and_her_was_of  [and, her, was, of, to, is, content, for, she,...   \n",
       "\n",
       "   Representative_Docs                                        Top_n_words  \\\n",
       "0                  NaN  and - her - was - of - to - is - content - for...   \n",
       "\n",
       "   Representative_document  \n",
       "0                    False  "
      ]
     },
     "execution_count": 31,
     "metadata": {},
     "output_type": "execute_result"
    }
   ],
   "source": [
    "bertopic_docs = topic_model.get_document_info(docs)\n",
    "df = pd.concat([df_articles, bertopic_docs], axis=1)\n",
    "df.head(1)"
   ]
  },
  {
   "cell_type": "code",
   "execution_count": 32,
   "metadata": {},
   "outputs": [
    {
     "data": {
      "text/plain": [
       "[{'start_date': '2022-02-24', 'topic_name': 'Ukraine Russia War'},\n",
       " {'start_date': '2022-10-07', 'topic_name': 'Israel Palestine War'}]"
      ]
     },
     "execution_count": 32,
     "metadata": {},
     "output_type": "execute_result"
    }
   ],
   "source": [
    "list_conflicts"
   ]
  },
  {
   "cell_type": "code",
   "execution_count": 58,
   "metadata": {},
   "outputs": [
    {
     "name": "stdout",
     "output_type": "stream",
     "text": [
      "Number of articles for Ukraine Russia War after 2022-02-24: 12\n",
      "Topic names for Ukraine Russia War are ['59_russian_ukraine_ukrainian_war' '778_ukraine_ukraines_russian_russia']\n",
      "Number of articles for Israel Palestine War after 2022-10-07: 11\n",
      "Topic names for Israel Palestine War are ['243_gaza_israel_hamas_israeli' '1110_israel_netanyahu_gaza_biden']\n"
     ]
    }
   ],
   "source": [
    "conflict_list = []\n",
    "\n",
    "for conflict in list_conflicts:\n",
    "    start_date = conflict['start_date']\n",
    "    topic_name = conflict['topic_name']\n",
    "    topic_numbers = topic_model.find_topics(topic_name, top_n=3)[0]\n",
    "    \n",
    "    df_temp = df[df.Topic.isin(topic_numbers)]\n",
    "    df_temp = df_temp[(df_temp['content'].map(len) > 800) & (df_temp['content'].map(len) < 2000)]\n",
    "    df_temp = df_temp[df_temp['published_date'] > \"2017-01-21\"]\n",
    "    df_temp['conflict'] = topic_name  \n",
    "\n",
    "    conflict_list.append(df_temp)\n",
    "    \n",
    "    print(f\"Number of articles for {topic_name} after {start_date}: {len(df_temp)}\")\n",
    "    print(f\"Topic names for {topic_name} are {df_temp.Name.unique()}\")\n"
   ]
  },
  {
   "cell_type": "code",
   "execution_count": 60,
   "metadata": {},
   "outputs": [
    {
     "data": {
      "text/html": [
       "<div>\n",
       "<style scoped>\n",
       "    .dataframe tbody tr th:only-of-type {\n",
       "        vertical-align: middle;\n",
       "    }\n",
       "\n",
       "    .dataframe tbody tr th {\n",
       "        vertical-align: top;\n",
       "    }\n",
       "\n",
       "    .dataframe thead th {\n",
       "        text-align: right;\n",
       "    }\n",
       "</style>\n",
       "<table border=\"1\" class=\"dataframe\">\n",
       "  <thead>\n",
       "    <tr style=\"text-align: right;\">\n",
       "      <th></th>\n",
       "      <th>conflict</th>\n",
       "      <th>title</th>\n",
       "      <th>published_date</th>\n",
       "      <th>description</th>\n",
       "      <th>section</th>\n",
       "      <th>content</th>\n",
       "      <th>link</th>\n",
       "      <th>Name</th>\n",
       "      <th>Representation</th>\n",
       "      <th>Top_n_words</th>\n",
       "      <th>Representative_document</th>\n",
       "    </tr>\n",
       "  </thead>\n",
       "  <tbody>\n",
       "    <tr>\n",
       "      <th>0</th>\n",
       "      <td>Ukraine Russia War</td>\n",
       "      <td>Ukraine war latest: Biden calls for Putin war ...</td>\n",
       "      <td>2022-04-03</td>\n",
       "      <td>The BBC has seen fresh evidence of atrocities,...</td>\n",
       "      <td>Europe</td>\n",
       "      <td>Olha Sukhenko, her son Oleksander and husband ...</td>\n",
       "      <td>http://www.bbc.co.uk/news/live/world-europe-60...</td>\n",
       "      <td>59_russian_ukraine_ukrainian_war</td>\n",
       "      <td>[russian, ukraine, ukrainian, war, soldiers, b...</td>\n",
       "      <td>russian - ukraine - ukrainian - war - soldiers...</td>\n",
       "      <td>False</td>\n",
       "    </tr>\n",
       "    <tr>\n",
       "      <th>1</th>\n",
       "      <td>Ukraine Russia War</td>\n",
       "      <td>Ukraine war latest: Battles in Donbas will loo...</td>\n",
       "      <td>2022-04-07</td>\n",
       "      <td>Foreign Minister Dmytro Kuleba calls on Nato a...</td>\n",
       "      <td>Europe</td>\n",
       "      <td>Land warfare analyst Nick Reynolds, who works ...</td>\n",
       "      <td>http://www.bbc.co.uk/news/live/world-europe-60...</td>\n",
       "      <td>778_ukraine_ukraines_russian_russia</td>\n",
       "      <td>[ukraine, ukraines, russian, russia, counterof...</td>\n",
       "      <td>ukraine - ukraines - russian - russia - counte...</td>\n",
       "      <td>False</td>\n",
       "    </tr>\n",
       "    <tr>\n",
       "      <th>2</th>\n",
       "      <td>Ukraine Russia War</td>\n",
       "      <td>Ukraine latest news: Leaders positive about EU...</td>\n",
       "      <td>2022-06-14</td>\n",
       "      <td>Germany, France, Italy and Romania support Ukr...</td>\n",
       "      <td>Europe</td>\n",
       "      <td>In a field about six miles from the eastern Uk...</td>\n",
       "      <td>http://www.bbc.co.uk/news/live/world-europe-61...</td>\n",
       "      <td>59_russian_ukraine_ukrainian_war</td>\n",
       "      <td>[russian, ukraine, ukrainian, war, soldiers, b...</td>\n",
       "      <td>russian - ukraine - ukrainian - war - soldiers...</td>\n",
       "      <td>False</td>\n",
       "    </tr>\n",
       "    <tr>\n",
       "      <th>3</th>\n",
       "      <td>Ukraine Russia War</td>\n",
       "      <td>Ukraine war latest: Russia defends death sente...</td>\n",
       "      <td>2022-06-10</td>\n",
       "      <td>Russia's foreign minister claims the captured ...</td>\n",
       "      <td>Europe</td>\n",
       "      <td>Shevchenko says his mother has been able to le...</td>\n",
       "      <td>http://www.bbc.co.uk/news/live/world-europe-61...</td>\n",
       "      <td>59_russian_ukraine_ukrainian_war</td>\n",
       "      <td>[russian, ukraine, ukrainian, war, soldiers, b...</td>\n",
       "      <td>russian - ukraine - ukrainian - war - soldiers...</td>\n",
       "      <td>False</td>\n",
       "    </tr>\n",
       "    <tr>\n",
       "      <th>4</th>\n",
       "      <td>Ukraine Russia War</td>\n",
       "      <td>Ukraine war: Controversial referendums being h...</td>\n",
       "      <td>2022-09-24</td>\n",
       "      <td>Russian-backed officials in four occupied regi...</td>\n",
       "      <td>World</td>\n",
       "      <td>One man told the BBC he was in the queue to cr...</td>\n",
       "      <td>http://www.bbc.co.uk/news/live/world-63002591</td>\n",
       "      <td>59_russian_ukraine_ukrainian_war</td>\n",
       "      <td>[russian, ukraine, ukrainian, war, soldiers, b...</td>\n",
       "      <td>russian - ukraine - ukrainian - war - soldiers...</td>\n",
       "      <td>False</td>\n",
       "    </tr>\n",
       "    <tr>\n",
       "      <th>5</th>\n",
       "      <td>Ukraine Russia War</td>\n",
       "      <td>Ukraine says mass burial sites found in retake...</td>\n",
       "      <td>2022-10-08</td>\n",
       "      <td>A Ukrainian official said two sites were found...</td>\n",
       "      <td>Europe</td>\n",
       "      <td>Destroyed vehicles remain in the city of Lyman...</td>\n",
       "      <td>http://www.bbc.co.uk/news/world-europe-63181475</td>\n",
       "      <td>59_russian_ukraine_ukrainian_war</td>\n",
       "      <td>[russian, ukraine, ukrainian, war, soldiers, b...</td>\n",
       "      <td>russian - ukraine - ukrainian - war - soldiers...</td>\n",
       "      <td>False</td>\n",
       "    </tr>\n",
       "    <tr>\n",
       "      <th>6</th>\n",
       "      <td>Ukraine Russia War</td>\n",
       "      <td>As it happened: Zelensky tells Congress Ukrain...</td>\n",
       "      <td>2022-12-21</td>\n",
       "      <td>Ukraine's president gets a standing ovation fr...</td>\n",
       "      <td>US &amp; Canada</td>\n",
       "      <td>A brief history of the war in Ukraine\\n\\nLet's...</td>\n",
       "      <td>http://www.bbc.co.uk/news/live/world-us-canada...</td>\n",
       "      <td>778_ukraine_ukraines_russian_russia</td>\n",
       "      <td>[ukraine, ukraines, russian, russia, counterof...</td>\n",
       "      <td>ukraine - ukraines - russian - russia - counte...</td>\n",
       "      <td>False</td>\n",
       "    </tr>\n",
       "    <tr>\n",
       "      <th>7</th>\n",
       "      <td>Ukraine Russia War</td>\n",
       "      <td>Ukraine war: Ben Wallace says 97% of Russian a...</td>\n",
       "      <td>2023-02-14</td>\n",
       "      <td>The UK Defence Secretary says Putin's forces a...</td>\n",
       "      <td>Europe</td>\n",
       "      <td>The war in Ukraine will “likely” continue into...</td>\n",
       "      <td>http://www.bbc.co.uk/news/live/world-europe-64...</td>\n",
       "      <td>778_ukraine_ukraines_russian_russia</td>\n",
       "      <td>[ukraine, ukraines, russian, russia, counterof...</td>\n",
       "      <td>ukraine - ukraines - russian - russia - counte...</td>\n",
       "      <td>False</td>\n",
       "    </tr>\n",
       "    <tr>\n",
       "      <th>8</th>\n",
       "      <td>Ukraine Russia War</td>\n",
       "      <td>Ukraine war latest news: Victory is inevitable...</td>\n",
       "      <td>2023-02-24</td>\n",
       "      <td>As the first German-made tanks arrive in Ukrai...</td>\n",
       "      <td>Europe</td>\n",
       "      <td>Irina Filkina was killed by Russian troops in ...</td>\n",
       "      <td>http://www.bbc.co.uk/news/live/world-europe-64...</td>\n",
       "      <td>59_russian_ukraine_ukrainian_war</td>\n",
       "      <td>[russian, ukraine, ukrainian, war, soldiers, b...</td>\n",
       "      <td>russian - ukraine - ukrainian - war - soldiers...</td>\n",
       "      <td>False</td>\n",
       "    </tr>\n",
       "    <tr>\n",
       "      <th>9</th>\n",
       "      <td>Ukraine Russia War</td>\n",
       "      <td>Ukraine war latest: 'Extremely fierce battles'...</td>\n",
       "      <td>2023-06-14</td>\n",
       "      <td>Ukraine's ongoing counter-offensive has result...</td>\n",
       "      <td>Europe</td>\n",
       "      <td>Mystery surrounds the health of top Chechen co...</td>\n",
       "      <td>http://www.bbc.co.uk/news/live/world-europe-65...</td>\n",
       "      <td>778_ukraine_ukraines_russian_russia</td>\n",
       "      <td>[ukraine, ukraines, russian, russia, counterof...</td>\n",
       "      <td>ukraine - ukraines - russian - russia - counte...</td>\n",
       "      <td>False</td>\n",
       "    </tr>\n",
       "    <tr>\n",
       "      <th>10</th>\n",
       "      <td>Ukraine Russia War</td>\n",
       "      <td>Ukraine war live updates: Can Ukraine recover ...</td>\n",
       "      <td>2023-12-21</td>\n",
       "      <td>Our correspondents in Kyiv, Moscow, London and...</td>\n",
       "      <td>Europe</td>\n",
       "      <td>Oleksandr Dushakov is a well-known Ukrainian b...</td>\n",
       "      <td>http://www.bbc.co.uk/news/live/world-middle-ea...</td>\n",
       "      <td>778_ukraine_ukraines_russian_russia</td>\n",
       "      <td>[ukraine, ukraines, russian, russia, counterof...</td>\n",
       "      <td>ukraine - ukraines - russian - russia - counte...</td>\n",
       "      <td>False</td>\n",
       "    </tr>\n",
       "    <tr>\n",
       "      <th>11</th>\n",
       "      <td>Ukraine Russia War</td>\n",
       "      <td>'You can't destroy our dreams,' says Zelensky ...</td>\n",
       "      <td>2024-02-24</td>\n",
       "      <td>Ukraine's president calls on people to keep fi...</td>\n",
       "      <td>Europe</td>\n",
       "      <td>Valentyna and her grandson Vlad on a video cal...</td>\n",
       "      <td>http://www.bbc.co.uk/news/live/world-europe-68...</td>\n",
       "      <td>59_russian_ukraine_ukrainian_war</td>\n",
       "      <td>[russian, ukraine, ukrainian, war, soldiers, b...</td>\n",
       "      <td>russian - ukraine - ukrainian - war - soldiers...</td>\n",
       "      <td>False</td>\n",
       "    </tr>\n",
       "    <tr>\n",
       "      <th>12</th>\n",
       "      <td>Israel Palestine War</td>\n",
       "      <td>US to cut $200m aid to Gaza and West Bank - BB...</td>\n",
       "      <td>2018-08-25</td>\n",
       "      <td>The decision was made on US President Donald T...</td>\n",
       "      <td>Middle East</td>\n",
       "      <td>The US has cut aid meant for people living in ...</td>\n",
       "      <td>http://www.bbc.co.uk/news/world-middle-east-45...</td>\n",
       "      <td>243_gaza_israel_hamas_israeli</td>\n",
       "      <td>[gaza, israel, hamas, israeli, ceasefire, pale...</td>\n",
       "      <td>gaza - israel - hamas - israeli - ceasefire - ...</td>\n",
       "      <td>False</td>\n",
       "    </tr>\n",
       "    <tr>\n",
       "      <th>13</th>\n",
       "      <td>Israel Palestine War</td>\n",
       "      <td>Israel-Gaza: How the ceasefire fared on its fi...</td>\n",
       "      <td>2021-05-21</td>\n",
       "      <td>The first day of the ceasefire saw clashes at ...</td>\n",
       "      <td>Middle East</td>\n",
       "      <td>We need to rebuild lives in Gaza, says UN\\n\\nT...</td>\n",
       "      <td>http://www.bbc.co.uk/news/live/world-middle-ea...</td>\n",
       "      <td>243_gaza_israel_hamas_israeli</td>\n",
       "      <td>[gaza, israel, hamas, israeli, ceasefire, pale...</td>\n",
       "      <td>gaza - israel - hamas - israeli - ceasefire - ...</td>\n",
       "      <td>False</td>\n",
       "    </tr>\n",
       "    <tr>\n",
       "      <th>14</th>\n",
       "      <td>Israel Palestine War</td>\n",
       "      <td>Israel-Gaza: Netanyahu says operation against ...</td>\n",
       "      <td>2021-05-13</td>\n",
       "      <td>Health officials in Gaza say 188 Palestinians ...</td>\n",
       "      <td>Middle East</td>\n",
       "      <td>Is Israel’s military operation in Gaza, dubbed...</td>\n",
       "      <td>http://www.bbc.co.uk/news/live/world-middle-ea...</td>\n",
       "      <td>243_gaza_israel_hamas_israeli</td>\n",
       "      <td>[gaza, israel, hamas, israeli, ceasefire, pale...</td>\n",
       "      <td>gaza - israel - hamas - israeli - ceasefire - ...</td>\n",
       "      <td>False</td>\n",
       "    </tr>\n",
       "    <tr>\n",
       "      <th>15</th>\n",
       "      <td>Israel Palestine War</td>\n",
       "      <td>Netanyahu says Israel preparing for Gaza groun...</td>\n",
       "      <td>2023-10-26</td>\n",
       "      <td>Israel's prime minister says the decision on w...</td>\n",
       "      <td>Middle East</td>\n",
       "      <td>No clues as to timing of ground invasion in Is...</td>\n",
       "      <td>http://www.bbc.co.uk/news/live/world-middle-ea...</td>\n",
       "      <td>243_gaza_israel_hamas_israeli</td>\n",
       "      <td>[gaza, israel, hamas, israeli, ceasefire, pale...</td>\n",
       "      <td>gaza - israel - hamas - israeli - ceasefire - ...</td>\n",
       "      <td>False</td>\n",
       "    </tr>\n",
       "    <tr>\n",
       "      <th>16</th>\n",
       "      <td>Israel Palestine War</td>\n",
       "      <td>Sunday with Laura Kuenssberg: James Cleverly a...</td>\n",
       "      <td>2023-10-15</td>\n",
       "      <td>The foreign secretary says he has \"raised this...</td>\n",
       "      <td>UK Politics</td>\n",
       "      <td>Israel has right to defend itself but they hav...</td>\n",
       "      <td>http://www.bbc.co.uk/news/live/uk-politics-671...</td>\n",
       "      <td>243_gaza_israel_hamas_israeli</td>\n",
       "      <td>[gaza, israel, hamas, israeli, ceasefire, pale...</td>\n",
       "      <td>gaza - israel - hamas - israeli - ceasefire - ...</td>\n",
       "      <td>False</td>\n",
       "    </tr>\n",
       "    <tr>\n",
       "      <th>17</th>\n",
       "      <td>Israel Palestine War</td>\n",
       "      <td>What happens in Gaza when the war ends? We ans...</td>\n",
       "      <td>2023-10-16</td>\n",
       "      <td>What happens next in Gaza? What is Israel's ai...</td>\n",
       "      <td>Middle East</td>\n",
       "      <td>Smoke rises from the town of Beit Lahia after ...</td>\n",
       "      <td>http://www.bbc.co.uk/news/live/world-middle-ea...</td>\n",
       "      <td>243_gaza_israel_hamas_israeli</td>\n",
       "      <td>[gaza, israel, hamas, israeli, ceasefire, pale...</td>\n",
       "      <td>gaza - israel - hamas - israeli - ceasefire - ...</td>\n",
       "      <td>False</td>\n",
       "    </tr>\n",
       "    <tr>\n",
       "      <th>18</th>\n",
       "      <td>Israel Palestine War</td>\n",
       "      <td>Israeli military says its troops have complete...</td>\n",
       "      <td>2023-11-03</td>\n",
       "      <td>It comes as the UN said four schools-turned-sh...</td>\n",
       "      <td>Middle East</td>\n",
       "      <td>We've just heard from our correspondent Anthon...</td>\n",
       "      <td>http://www.bbc.co.uk/news/live/world-middle-ea...</td>\n",
       "      <td>243_gaza_israel_hamas_israeli</td>\n",
       "      <td>[gaza, israel, hamas, israeli, ceasefire, pale...</td>\n",
       "      <td>gaza - israel - hamas - israeli - ceasefire - ...</td>\n",
       "      <td>False</td>\n",
       "    </tr>\n",
       "    <tr>\n",
       "      <th>19</th>\n",
       "      <td>Israel Palestine War</td>\n",
       "      <td>Israel war cabinet minister's son killed in Ga...</td>\n",
       "      <td>2023-12-08</td>\n",
       "      <td>Gadi Eisenkot's son Gal, 25, died after a tunn...</td>\n",
       "      <td>Middle East</td>\n",
       "      <td>Gadi Eisenkot was told of his son's injuries w...</td>\n",
       "      <td>http://www.bbc.co.uk/news/world-middle-east-67...</td>\n",
       "      <td>243_gaza_israel_hamas_israeli</td>\n",
       "      <td>[gaza, israel, hamas, israeli, ceasefire, pale...</td>\n",
       "      <td>gaza - israel - hamas - israeli - ceasefire - ...</td>\n",
       "      <td>False</td>\n",
       "    </tr>\n",
       "    <tr>\n",
       "      <th>20</th>\n",
       "      <td>Israel Palestine War</td>\n",
       "      <td>Israel-Gaza: UN warns half of Gazans starving,...</td>\n",
       "      <td>2023-12-08</td>\n",
       "      <td>An official says most people in the territory ...</td>\n",
       "      <td>Middle East</td>\n",
       "      <td>People in Gaza have been giving us their react...</td>\n",
       "      <td>http://www.bbc.co.uk/news/live/world-middle-ea...</td>\n",
       "      <td>243_gaza_israel_hamas_israeli</td>\n",
       "      <td>[gaza, israel, hamas, israeli, ceasefire, pale...</td>\n",
       "      <td>gaza - israel - hamas - israeli - ceasefire - ...</td>\n",
       "      <td>False</td>\n",
       "    </tr>\n",
       "    <tr>\n",
       "      <th>21</th>\n",
       "      <td>Israel Palestine War</td>\n",
       "      <td>Israel-Gaza latest: US call at UN for Gaza tru...</td>\n",
       "      <td>2024-03-22</td>\n",
       "      <td>US Secretary of State Antony Blinken is also v...</td>\n",
       "      <td>World</td>\n",
       "      <td>The US and Israel are key allies, but today's ...</td>\n",
       "      <td>http://www.bbc.co.uk/news/live/world-68631712</td>\n",
       "      <td>243_gaza_israel_hamas_israeli</td>\n",
       "      <td>[gaza, israel, hamas, israeli, ceasefire, pale...</td>\n",
       "      <td>gaza - israel - hamas - israeli - ceasefire - ...</td>\n",
       "      <td>False</td>\n",
       "    </tr>\n",
       "    <tr>\n",
       "      <th>22</th>\n",
       "      <td>Israel Palestine War</td>\n",
       "      <td>State of the Union: Biden swipes at Trump and ...</td>\n",
       "      <td>2024-03-07</td>\n",
       "      <td>The president made his case for re-election to...</td>\n",
       "      <td>US &amp; Canada</td>\n",
       "      <td>As he moved on to the war in Gaza, Biden had s...</td>\n",
       "      <td>http://www.bbc.co.uk/news/live/world-us-canada...</td>\n",
       "      <td>1110_israel_netanyahu_gaza_biden</td>\n",
       "      <td>[israel, netanyahu, gaza, biden, hamas, israel...</td>\n",
       "      <td>israel - netanyahu - gaza - biden - hamas - is...</td>\n",
       "      <td>False</td>\n",
       "    </tr>\n",
       "  </tbody>\n",
       "</table>\n",
       "</div>"
      ],
      "text/plain": [
       "                conflict                                              title  \\\n",
       "0     Ukraine Russia War  Ukraine war latest: Biden calls for Putin war ...   \n",
       "1     Ukraine Russia War  Ukraine war latest: Battles in Donbas will loo...   \n",
       "2     Ukraine Russia War  Ukraine latest news: Leaders positive about EU...   \n",
       "3     Ukraine Russia War  Ukraine war latest: Russia defends death sente...   \n",
       "4     Ukraine Russia War  Ukraine war: Controversial referendums being h...   \n",
       "5     Ukraine Russia War  Ukraine says mass burial sites found in retake...   \n",
       "6     Ukraine Russia War  As it happened: Zelensky tells Congress Ukrain...   \n",
       "7     Ukraine Russia War  Ukraine war: Ben Wallace says 97% of Russian a...   \n",
       "8     Ukraine Russia War  Ukraine war latest news: Victory is inevitable...   \n",
       "9     Ukraine Russia War  Ukraine war latest: 'Extremely fierce battles'...   \n",
       "10    Ukraine Russia War  Ukraine war live updates: Can Ukraine recover ...   \n",
       "11    Ukraine Russia War  'You can't destroy our dreams,' says Zelensky ...   \n",
       "12  Israel Palestine War  US to cut $200m aid to Gaza and West Bank - BB...   \n",
       "13  Israel Palestine War  Israel-Gaza: How the ceasefire fared on its fi...   \n",
       "14  Israel Palestine War  Israel-Gaza: Netanyahu says operation against ...   \n",
       "15  Israel Palestine War  Netanyahu says Israel preparing for Gaza groun...   \n",
       "16  Israel Palestine War  Sunday with Laura Kuenssberg: James Cleverly a...   \n",
       "17  Israel Palestine War  What happens in Gaza when the war ends? We ans...   \n",
       "18  Israel Palestine War  Israeli military says its troops have complete...   \n",
       "19  Israel Palestine War  Israel war cabinet minister's son killed in Ga...   \n",
       "20  Israel Palestine War  Israel-Gaza: UN warns half of Gazans starving,...   \n",
       "21  Israel Palestine War  Israel-Gaza latest: US call at UN for Gaza tru...   \n",
       "22  Israel Palestine War  State of the Union: Biden swipes at Trump and ...   \n",
       "\n",
       "   published_date                                        description  \\\n",
       "0      2022-04-03  The BBC has seen fresh evidence of atrocities,...   \n",
       "1      2022-04-07  Foreign Minister Dmytro Kuleba calls on Nato a...   \n",
       "2      2022-06-14  Germany, France, Italy and Romania support Ukr...   \n",
       "3      2022-06-10  Russia's foreign minister claims the captured ...   \n",
       "4      2022-09-24  Russian-backed officials in four occupied regi...   \n",
       "5      2022-10-08  A Ukrainian official said two sites were found...   \n",
       "6      2022-12-21  Ukraine's president gets a standing ovation fr...   \n",
       "7      2023-02-14  The UK Defence Secretary says Putin's forces a...   \n",
       "8      2023-02-24  As the first German-made tanks arrive in Ukrai...   \n",
       "9      2023-06-14  Ukraine's ongoing counter-offensive has result...   \n",
       "10     2023-12-21  Our correspondents in Kyiv, Moscow, London and...   \n",
       "11     2024-02-24  Ukraine's president calls on people to keep fi...   \n",
       "12     2018-08-25  The decision was made on US President Donald T...   \n",
       "13     2021-05-21  The first day of the ceasefire saw clashes at ...   \n",
       "14     2021-05-13  Health officials in Gaza say 188 Palestinians ...   \n",
       "15     2023-10-26  Israel's prime minister says the decision on w...   \n",
       "16     2023-10-15  The foreign secretary says he has \"raised this...   \n",
       "17     2023-10-16  What happens next in Gaza? What is Israel's ai...   \n",
       "18     2023-11-03  It comes as the UN said four schools-turned-sh...   \n",
       "19     2023-12-08  Gadi Eisenkot's son Gal, 25, died after a tunn...   \n",
       "20     2023-12-08  An official says most people in the territory ...   \n",
       "21     2024-03-22  US Secretary of State Antony Blinken is also v...   \n",
       "22     2024-03-07  The president made his case for re-election to...   \n",
       "\n",
       "        section                                            content  \\\n",
       "0        Europe  Olha Sukhenko, her son Oleksander and husband ...   \n",
       "1        Europe  Land warfare analyst Nick Reynolds, who works ...   \n",
       "2        Europe  In a field about six miles from the eastern Uk...   \n",
       "3        Europe  Shevchenko says his mother has been able to le...   \n",
       "4         World  One man told the BBC he was in the queue to cr...   \n",
       "5        Europe  Destroyed vehicles remain in the city of Lyman...   \n",
       "6   US & Canada  A brief history of the war in Ukraine\\n\\nLet's...   \n",
       "7        Europe  The war in Ukraine will “likely” continue into...   \n",
       "8        Europe  Irina Filkina was killed by Russian troops in ...   \n",
       "9        Europe  Mystery surrounds the health of top Chechen co...   \n",
       "10       Europe  Oleksandr Dushakov is a well-known Ukrainian b...   \n",
       "11       Europe  Valentyna and her grandson Vlad on a video cal...   \n",
       "12  Middle East  The US has cut aid meant for people living in ...   \n",
       "13  Middle East  We need to rebuild lives in Gaza, says UN\\n\\nT...   \n",
       "14  Middle East  Is Israel’s military operation in Gaza, dubbed...   \n",
       "15  Middle East  No clues as to timing of ground invasion in Is...   \n",
       "16  UK Politics  Israel has right to defend itself but they hav...   \n",
       "17  Middle East  Smoke rises from the town of Beit Lahia after ...   \n",
       "18  Middle East  We've just heard from our correspondent Anthon...   \n",
       "19  Middle East  Gadi Eisenkot was told of his son's injuries w...   \n",
       "20  Middle East  People in Gaza have been giving us their react...   \n",
       "21        World  The US and Israel are key allies, but today's ...   \n",
       "22  US & Canada  As he moved on to the war in Gaza, Biden had s...   \n",
       "\n",
       "                                                 link  \\\n",
       "0   http://www.bbc.co.uk/news/live/world-europe-60...   \n",
       "1   http://www.bbc.co.uk/news/live/world-europe-60...   \n",
       "2   http://www.bbc.co.uk/news/live/world-europe-61...   \n",
       "3   http://www.bbc.co.uk/news/live/world-europe-61...   \n",
       "4       http://www.bbc.co.uk/news/live/world-63002591   \n",
       "5     http://www.bbc.co.uk/news/world-europe-63181475   \n",
       "6   http://www.bbc.co.uk/news/live/world-us-canada...   \n",
       "7   http://www.bbc.co.uk/news/live/world-europe-64...   \n",
       "8   http://www.bbc.co.uk/news/live/world-europe-64...   \n",
       "9   http://www.bbc.co.uk/news/live/world-europe-65...   \n",
       "10  http://www.bbc.co.uk/news/live/world-middle-ea...   \n",
       "11  http://www.bbc.co.uk/news/live/world-europe-68...   \n",
       "12  http://www.bbc.co.uk/news/world-middle-east-45...   \n",
       "13  http://www.bbc.co.uk/news/live/world-middle-ea...   \n",
       "14  http://www.bbc.co.uk/news/live/world-middle-ea...   \n",
       "15  http://www.bbc.co.uk/news/live/world-middle-ea...   \n",
       "16  http://www.bbc.co.uk/news/live/uk-politics-671...   \n",
       "17  http://www.bbc.co.uk/news/live/world-middle-ea...   \n",
       "18  http://www.bbc.co.uk/news/live/world-middle-ea...   \n",
       "19  http://www.bbc.co.uk/news/world-middle-east-67...   \n",
       "20  http://www.bbc.co.uk/news/live/world-middle-ea...   \n",
       "21      http://www.bbc.co.uk/news/live/world-68631712   \n",
       "22  http://www.bbc.co.uk/news/live/world-us-canada...   \n",
       "\n",
       "                                   Name  \\\n",
       "0      59_russian_ukraine_ukrainian_war   \n",
       "1   778_ukraine_ukraines_russian_russia   \n",
       "2      59_russian_ukraine_ukrainian_war   \n",
       "3      59_russian_ukraine_ukrainian_war   \n",
       "4      59_russian_ukraine_ukrainian_war   \n",
       "5      59_russian_ukraine_ukrainian_war   \n",
       "6   778_ukraine_ukraines_russian_russia   \n",
       "7   778_ukraine_ukraines_russian_russia   \n",
       "8      59_russian_ukraine_ukrainian_war   \n",
       "9   778_ukraine_ukraines_russian_russia   \n",
       "10  778_ukraine_ukraines_russian_russia   \n",
       "11     59_russian_ukraine_ukrainian_war   \n",
       "12        243_gaza_israel_hamas_israeli   \n",
       "13        243_gaza_israel_hamas_israeli   \n",
       "14        243_gaza_israel_hamas_israeli   \n",
       "15        243_gaza_israel_hamas_israeli   \n",
       "16        243_gaza_israel_hamas_israeli   \n",
       "17        243_gaza_israel_hamas_israeli   \n",
       "18        243_gaza_israel_hamas_israeli   \n",
       "19        243_gaza_israel_hamas_israeli   \n",
       "20        243_gaza_israel_hamas_israeli   \n",
       "21        243_gaza_israel_hamas_israeli   \n",
       "22     1110_israel_netanyahu_gaza_biden   \n",
       "\n",
       "                                       Representation  \\\n",
       "0   [russian, ukraine, ukrainian, war, soldiers, b...   \n",
       "1   [ukraine, ukraines, russian, russia, counterof...   \n",
       "2   [russian, ukraine, ukrainian, war, soldiers, b...   \n",
       "3   [russian, ukraine, ukrainian, war, soldiers, b...   \n",
       "4   [russian, ukraine, ukrainian, war, soldiers, b...   \n",
       "5   [russian, ukraine, ukrainian, war, soldiers, b...   \n",
       "6   [ukraine, ukraines, russian, russia, counterof...   \n",
       "7   [ukraine, ukraines, russian, russia, counterof...   \n",
       "8   [russian, ukraine, ukrainian, war, soldiers, b...   \n",
       "9   [ukraine, ukraines, russian, russia, counterof...   \n",
       "10  [ukraine, ukraines, russian, russia, counterof...   \n",
       "11  [russian, ukraine, ukrainian, war, soldiers, b...   \n",
       "12  [gaza, israel, hamas, israeli, ceasefire, pale...   \n",
       "13  [gaza, israel, hamas, israeli, ceasefire, pale...   \n",
       "14  [gaza, israel, hamas, israeli, ceasefire, pale...   \n",
       "15  [gaza, israel, hamas, israeli, ceasefire, pale...   \n",
       "16  [gaza, israel, hamas, israeli, ceasefire, pale...   \n",
       "17  [gaza, israel, hamas, israeli, ceasefire, pale...   \n",
       "18  [gaza, israel, hamas, israeli, ceasefire, pale...   \n",
       "19  [gaza, israel, hamas, israeli, ceasefire, pale...   \n",
       "20  [gaza, israel, hamas, israeli, ceasefire, pale...   \n",
       "21  [gaza, israel, hamas, israeli, ceasefire, pale...   \n",
       "22  [israel, netanyahu, gaza, biden, hamas, israel...   \n",
       "\n",
       "                                          Top_n_words  Representative_document  \n",
       "0   russian - ukraine - ukrainian - war - soldiers...                    False  \n",
       "1   ukraine - ukraines - russian - russia - counte...                    False  \n",
       "2   russian - ukraine - ukrainian - war - soldiers...                    False  \n",
       "3   russian - ukraine - ukrainian - war - soldiers...                    False  \n",
       "4   russian - ukraine - ukrainian - war - soldiers...                    False  \n",
       "5   russian - ukraine - ukrainian - war - soldiers...                    False  \n",
       "6   ukraine - ukraines - russian - russia - counte...                    False  \n",
       "7   ukraine - ukraines - russian - russia - counte...                    False  \n",
       "8   russian - ukraine - ukrainian - war - soldiers...                    False  \n",
       "9   ukraine - ukraines - russian - russia - counte...                    False  \n",
       "10  ukraine - ukraines - russian - russia - counte...                    False  \n",
       "11  russian - ukraine - ukrainian - war - soldiers...                    False  \n",
       "12  gaza - israel - hamas - israeli - ceasefire - ...                    False  \n",
       "13  gaza - israel - hamas - israeli - ceasefire - ...                    False  \n",
       "14  gaza - israel - hamas - israeli - ceasefire - ...                    False  \n",
       "15  gaza - israel - hamas - israeli - ceasefire - ...                    False  \n",
       "16  gaza - israel - hamas - israeli - ceasefire - ...                    False  \n",
       "17  gaza - israel - hamas - israeli - ceasefire - ...                    False  \n",
       "18  gaza - israel - hamas - israeli - ceasefire - ...                    False  \n",
       "19  gaza - israel - hamas - israeli - ceasefire - ...                    False  \n",
       "20  gaza - israel - hamas - israeli - ceasefire - ...                    False  \n",
       "21  gaza - israel - hamas - israeli - ceasefire - ...                    False  \n",
       "22  israel - netanyahu - gaza - biden - hamas - is...                    False  "
      ]
     },
     "execution_count": 60,
     "metadata": {},
     "output_type": "execute_result"
    }
   ],
   "source": [
    "df_conflict_articles = pd.concat(conflict_list)\n",
    "df_conflict_articles = df_conflict_articles[['conflict', 'title', 'published_date',  'description', 'section', 'content', 'link', \n",
    "                                             'Name', 'Representation', 'Top_n_words', 'Representative_document' ]]\n",
    "df_conflict_articles = df_conflict_articles.reset_index(drop=True)\n",
    "df_conflict_articles\n"
   ]
  },
  {
   "cell_type": "code",
   "execution_count": 61,
   "metadata": {},
   "outputs": [
    {
     "data": {
      "application/vnd.jupyter.widget-view+json": {
       "model_id": "86819d365519470480b4028a001356a0",
       "version_major": 2,
       "version_minor": 0
      },
      "text/plain": [
       "Uploading the dataset shards:   0%|          | 0/1 [00:00<?, ?it/s]"
      ]
     },
     "metadata": {},
     "output_type": "display_data"
    },
    {
     "data": {
      "application/vnd.jupyter.widget-view+json": {
       "model_id": "53adf783cb9548f78c38cf5437515d8b",
       "version_major": 2,
       "version_minor": 0
      },
      "text/plain": [
       "Creating parquet from Arrow format:   0%|          | 0/1 [00:00<?, ?ba/s]"
      ]
     },
     "metadata": {},
     "output_type": "display_data"
    },
    {
     "data": {
      "application/vnd.jupyter.widget-view+json": {
       "model_id": "3a4b8ea1ff4a424687056c0de9df84a0",
       "version_major": 2,
       "version_minor": 0
      },
      "text/plain": [
       "README.md:   0%|          | 0.00/664 [00:00<?, ?B/s]"
      ]
     },
     "metadata": {},
     "output_type": "display_data"
    },
    {
     "data": {
      "text/plain": [
       "CommitInfo(commit_url='https://huggingface.co/datasets/CarlosMorales/news_bbc_international_conflicts/commit/1f91842587a9ff636dfe19bdf39a5d46c79ae8a8', commit_message='Upload dataset', commit_description='', oid='1f91842587a9ff636dfe19bdf39a5d46c79ae8a8', pr_url=None, pr_revision=None, pr_num=None)"
      ]
     },
     "execution_count": 61,
     "metadata": {},
     "output_type": "execute_result"
    }
   ],
   "source": [
    "from datasets import Dataset\n",
    "\n",
    "dataset_conflict_articles = Dataset.from_pandas(df_conflict_articles)\n",
    "\n",
    "dataset_conflict_articles.push_to_hub(\"CarlosMorales/news_bbc_international_conflicts\")\n"
   ]
  },
  {
   "cell_type": "code",
   "execution_count": 62,
   "metadata": {},
   "outputs": [
    {
     "data": {
      "application/vnd.jupyter.widget-view+json": {
       "model_id": "adcc484ce68d404da882d83c2037e341",
       "version_major": 2,
       "version_minor": 0
      },
      "text/plain": [
       "Downloading readme:   0%|          | 0.00/661 [00:00<?, ?B/s]"
      ]
     },
     "metadata": {},
     "output_type": "display_data"
    },
    {
     "name": "stderr",
     "output_type": "stream",
     "text": [
      "Downloading data: 100%|██████████| 39.7k/39.7k [00:00<00:00, 201kB/s]\n"
     ]
    },
    {
     "data": {
      "application/vnd.jupyter.widget-view+json": {
       "model_id": "65a98228f2454e1f9a26f3a9886fceff",
       "version_major": 2,
       "version_minor": 0
      },
      "text/plain": [
       "Generating train split:   0%|          | 0/23 [00:00<?, ? examples/s]"
      ]
     },
     "metadata": {},
     "output_type": "display_data"
    }
   ],
   "source": [
    "from datasets import load_dataset\n",
    "dataset = load_dataset(\"CarlosMorales/news_bbc_international_conflicts\")"
   ]
  }
 ],
 "metadata": {
  "kernelspec": {
   "display_name": "afganistan_news-iJBxg4na",
   "language": "python",
   "name": "python3"
  },
  "language_info": {
   "codemirror_mode": {
    "name": "ipython",
    "version": 3
   },
   "file_extension": ".py",
   "mimetype": "text/x-python",
   "name": "python",
   "nbconvert_exporter": "python",
   "pygments_lexer": "ipython3",
   "version": "3.10.9"
  }
 },
 "nbformat": 4,
 "nbformat_minor": 2
}
