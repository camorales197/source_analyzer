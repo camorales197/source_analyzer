{
 "cells": [
  {
   "cell_type": "code",
   "execution_count": 2,
   "metadata": {},
   "outputs": [],
   "source": [
    "from langchain_community.document_loaders import UnstructuredPDFLoader\n",
    "from langchain_community.document_loaders import PyPDFLoader\n",
    "from langchain_community.document_loaders import BSHTMLLoader\n"
   ]
  },
  {
   "cell_type": "code",
   "execution_count": 7,
   "metadata": {},
   "outputs": [
    {
     "name": "stdout",
     "output_type": "stream",
     "text": [
      "[Document(page_content='Two ANA soldiers killed in Nangarhar\\nCop, two civilians injured in Helmand bombing\\nTaliban commander killed during operation \\nLocal policeman kills commander1/16/2013 3:13:28 PM PST\\nUSER\\nWelcome, Bette !Log Out\\n \\nNEWS\\nARTICLES \\nNEWS ARCHIVE\\nABOUT AIP\\nFEEDBACK\\nCONTACT US\\nDOWNLOADS\\nLAUNCH INTRO\\nF.A.Q\\nSEARCH\\nKeywords:\\n Search \\n \\nAfghan govt releases four Pakistani prisoners\\nPESHAWAR: Afghan government has handed over four prisoners to the Pakistani authorities on Thursday who are stated to be ill.The AIP sources said that Afghan authorities handed over the prisoners to the Pakistani authorities at Torkhum border. ThePakistani officials at Torkhum confirmed their release and said that they were now in the custody of political authorities, KhyberAgency. It is to mention here that hundreds of Pakistani who had entered Afghanistan to support Taliban government had beenarrested in the year 2001. Among the released prisoners, three are belonged to Peshawar, while one of them hails from Karachi.Ends\\nAfghan Islamic Press is the oldest, independent and reliable news agency of Afghanistan, covering events since 1982. If you want to keep yourself abreast with the latest developments in Afghanistan, do not hesitate and subscribe to our news service. Contact us at: aipnews@yahoo.com, Fax No. 0092-91-5842544\\nHOME | ABOUT US | CONTACT US\\nCopyrights © 2009, All Rights reserved. Best viewed in IE and Firefox, 1024x768', metadata={'source': 'pdf_example.pdf', 'page': 0})]\n"
     ]
    }
   ],
   "source": [
    "loader = PyPDFLoader(\"pdf_example.pdf\")\n",
    "pages = loader.load_and_split()\n",
    "print(pages)"
   ]
  },
  {
   "cell_type": "code",
   "execution_count": 36,
   "metadata": {},
   "outputs": [
    {
     "name": "stdout",
     "output_type": "stream",
     "text": [
      " \n",
      "Afghan govt releases four Pakistani prisoners\n",
      "PESHAWAR: Afghan government has handed over four prisoners to the Pakistani authorities on Thursday who are stated to be ill.The AIP sources said that Afghan authorities handed over the prisoners to the Pakistani authorities at Torkhum border. ThePakistani officials at Torkhum confirmed their release and said that they were now in the custody of political authorities, KhyberAgency. It is to mention here that hundreds of Pakistani who had entered Afghanistan to support Taliban government had beenarrested in the year 2001. Among the released prisoners, three are belonged to Peshawar, while one of them hails from Karachi.Ends\n",
      "Afghan Islamic Press is the oldest, independent and reliable news agency of Afghanistan, covering events since 1982. If you want to keep yourself abreast with the latest developments in Afghanistan, do not hesitate and subscribe to our news service. Contact us at: aipnews@yahoo.com, Fax No. 0092-91-5842544\n",
      "\n"
     ]
    }
   ],
   "source": [
    "print(pages[0].page_content.split(\"\"\":\\n Search \\n\"\"\")[1].split(\"HOME | ABOUT US | CONTACT US\")[0])"
   ]
  },
  {
   "cell_type": "code",
   "execution_count": null,
   "metadata": {},
   "outputs": [],
   "source": [
    "loader = UnstructuredPDFLoader(\"example_data/layout-parser-paper.pdf\")\n",
    "data = loader.load()\n"
   ]
  },
  {
   "cell_type": "code",
   "execution_count": 40,
   "metadata": {},
   "outputs": [
    {
     "name": "stdout",
     "output_type": "stream",
     "text": [
      "Collecting lxml\n",
      "  Downloading lxml-5.2.1-cp311-cp311-macosx_10_9_universal2.whl.metadata (3.4 kB)\n",
      "Downloading lxml-5.2.1-cp311-cp311-macosx_10_9_universal2.whl (8.5 MB)\n",
      "\u001b[2K   \u001b[90m━━━━━━━━━━━━━━━━━━━━━━━━━━━━━━━━━━━━━━━━\u001b[0m \u001b[32m8.5/8.5 MB\u001b[0m \u001b[31m11.4 MB/s\u001b[0m eta \u001b[36m0:00:00\u001b[0m00:01\u001b[0m00:01\u001b[0m\n",
      "\u001b[?25hInstalling collected packages: lxml\n",
      "Successfully installed lxml-5.2.1\n"
     ]
    }
   ],
   "source": [
    "!pip install lxml"
   ]
  },
  {
   "cell_type": "code",
   "execution_count": 3,
   "metadata": {},
   "outputs": [
    {
     "data": {
      "text/plain": [
       "[Document(page_content='\\n\\n\\n\\n\\n\\n\\n\\nNueva protesta en Extremadura contra el Pacto Europeo de Migración y Asilo - El Periódico Extremadura\\n\\n\\n\\n\\n\\n\\n\\n\\n\\n\\n\\n\\n\\n\\n\\n\\n\\n\\n\\n\\n\\n\\n\\n\\n\\n\\n\\n\\n\\n\\n\\n\\n\\n\\n\\n\\n\\n\\n\\n\\n\\n\\n\\n\\n\\n\\n\\n\\n\\n\\n\\n\\n\\n\\n\\n\\n\\n\\n\\n\\n\\n\\n\\n\\n\\n\\n\\n\\n\\n\\n\\n\\n\\n\\n\\n\\n\\n\\nAbrir MenúExtremaduraCáceresBadajozMéridaPlasenciaMunicipiosExtremadura AgrariaCáceresCáceresPlasenciaNavalmoralCoriaProvincia de CáceresBadajozLa Crónica de BadajozMéridaVegas AltasAlmendralejoProvincia de BadajozFeria de San JuanMéridaFeria de MéridaFestival Internacional de Teatro Clásico de MéridaProvincia de BadajozPlasenciaValle del JerteFeria de PlasenciaProvincia de CáceresVegas AltasFusión Don Benito-VillanuevaDeportesFútbolPrimera FEDSegunda FEDLEB OroLiga ChallengeMotoGPResultadosOpiniónCartas a la directoraEditorialPilar GalánAracely R. RobustilloCarmen Martínez-FortúnFernando ValbuenaVíctor BermúdezMÁS NOTICIASEspañaInternacionalEconomíaSociedadFemenino pluralTendencias 21Medio AmbienteEducar es todoCaso AbiertoTribunalesInvestigaciónViolencia machistaDesaparecidosDelitos informáticosCulturaabrilLa recomendación literariaCineMúsicaArteTeatroAgendaMultimediaVídeosGaleriasClasificadosEmpleo ExtremaduraVivienda ExtremaduraAlquiler ExtremaduraCoches de ocasiónServiciosEsquelasTiempoNewsletterSorteosPasatiemposRSSTagsMapa webComprobar Lotería de Navidad RRSS Facebook  RRSS Twitter  RRSS Instagram  RRSS Linkedin Fumar en las terrazasWomad CáceresCaso Daniel SanchoWhatsAppAbrir buscadorBuscadorCerrar ventana de búsquedaIntroduce tu búsquedaMensaje de errorBuscarAbrir MenúEl Periódico ExtremaduraExtremaduraCáceresBadajozUniversidad de ExtremaduraEducaciónMunicipios\\n\\nConcentraciones en Mérida, Cáceres y BadajozNueva protesta en Extremadura contra el Pacto Europeo de Migración y Asilo«Queremos cumplir el sueño de tener una vida digna», dice un joven procedente de MaliProtesta contra el Pacto Europeo de Migración y Asilo en la plaza de España de Mérida.  / Europa Press\\nAgenciasMérida 06 ABR 2024 19:20 Unas trescientas personas entre migrantes, plataformas y sociedad civil, se han manifestado este sábado en Mérida en contra del Pacto Europeo de Migración y Asilo, al entender que elimina el derecho humano al asilo, «legaliza» las deportaciones masivas y «criminaliza» a los inmigrantes. La protesta se ha celebrado también a mediodía en Badajoz y una hora más tarde en Cáceres, dentro de una convocatoria nacional en contra de un pacto que se votará el 10 y 11 de abril en el Parlamento Europeo y que, según los convocantes, tendrá consecuencias «catastróficas».\\n\"No al pacto\", \"Asilo\" y \"No al racismo\" son algunas de las consignas que han coreado en una concentración en la plaza de España de la capital autonómica en la que ha portado numerosas pancartas en las que se podían leer, entre otros mensajes, \"Venimos huyendo de la miseria y las guerras\", \"Ningún ser humano es ilegal\" y \"Queremos citas para protección internacional\".Gritos de \"asilo\" en la plaza de España, en Mérida, durante la concentración para reivindicar los derechos de los migrantesEntre los manifestantes se encontraba un joven procedente Mali y usuario del albergue de Mérida, que lamentó que carecen de protección internacional pese a llevar hasta seis meses en España. Ha pedido ayuda y que se les trate «como personas normales». «Queremos cumplir el sueño de tener una vida digna», argumenta.Precedente peligrosoEn declaraciones a los medios, Silvia Cobo Sánchez, portavoz de la Plataforma Ciudadana de Ayuda a Personas Migrantes, advirte que será la primera vez que se elimine un derecho universal, como lo es el derecho al asilo. Denuncia también la «crueldad» que supone que los reglamentos de este pacto se apliquen a menores de 6 años, mujeres víctimas de violencia de género, que huyen de una ablación o de matrimonios forzosos.\\nHasta ahora, estas últimas estaban protegidas por la ley de migración y asilo, pero \"con el pacto no porque es por nacionalidad\", ha expresado. Además, ha subrayado, se \"legalizan\" las deportaciones masivas de inmigrantes, de modo que la ciudadanía y las ONG ya no tendrán potestad ni legislación en la mano para proteger a esas personas.En este mismo sentido se ha pronunciado la portavoz de Unidas por Extremadura, Irene de Miguel, quien expresa su «vergüenza» por cómo el Gobierno de España está tratando a estas personas «cuyo único crimen ha sido querer mejorar su vida».TEMASExtremaduraviolencia de géneroSánchezParlamento EuropeoAsilomigrantesmenores migrantesComenta esta noticia RRSS WhatsApp RRSS Facebook RRSS Twitter RRSS emailCopiar URLCerrarNoticia guardada en tu perfilVer noticias guardadas1\\n\\nLo más leídoLo últimoExtremaduraInterinos y temporales de la Junta de Extremadura convocan una protesta el 11 de abrilExtremaduraTres personas ingresadas tras haber comido setas venenosasExtremadura¿Qué deducciones autonómicas me puedo aplicar en Extremadura?ExtremaduraVergeles presidirá el PSOE en la Asamblea y Piedad Álvarez será portavozExtremaduraCrecen las denuncias por desapariciones en Extremadura: «Es un bulo que haya que esperar 24 horas»ExtremaduraBienvenidos ‘místers MIR’ExtremaduraUna quincena de grandes proyectos buscan inversión para asentarse en ExtremaduraExtremaduraExtremeña en busca de empleo: «Me contrataron para la Semana Santa, pero necesito trabajar más horas»Convocatoria extraordinariaArrancan los exámenes del proceso de estabilización de la JuntaABR, 21:16Concentraciones en Mérida, Cáceres y BadajozNueva protesta en Extremadura contra el Pacto Europeo de Migración y AsiloABR, 19:20Resumen climatológico de la Agencia Estatal de MeteorologíaAño muy húmedo en Extremadura: ha llovido más del triple de lo habitualABR, 7:01EpígrafeNoticia de apoyo columna titular cuatro líneasABR, 6:00\\n\\n\\n\\n Cerrar \\n Cerrar Quiénes somosTarifas de Publicidad El Periódico de ExtremadurabContentTarifas de Publicidad La Crónica de BadajozEditorial Extremadura S. A.Otras webs de Prensa Ibérica Media:PrensaDiari de GironaDiario CórdobaDiario de IbizaDiario de MallorcaEl Correo de AndalucíaEl Correo GallegoEl DíaEl Periódico de AragónEl PeriódicoEl Periódico de EspañaEl Periódico ExtremaduraEl Periódico MediterráneoEmpordàFaro de VigoINFORMACIÓNLa Crónica de BadajozLa Nueva EspañaLa Opinión A CoruñaLa Opinión de MálagaLa Opinión de MurciaLa Opinión - El Correo de ZamoraLa Provincia - Diario de Las PalmasLevante - El Mercantil ValencianoMallorca ZeitungRegió 7SportSuperdeporteRadio y televisiónInformación TVLevante TVMediTVRevistasCuoreStiloViajarWoman Madame FigaroCanales temáticosCambalacheCasa GourmetCoches de ocasiónCódigo NuevoCompramejorFórmula 1IberempleosLotería de Navidad 2023Medio AmbienteNeomotorPremios GoyaPremios OscarsTendencias 21Tu casaEditorial Extremadura S. A.Todos los derechos reservadosAviso legalPolítica de privacidad y cookiesCanal de denunciasPreferencias de privacidad\\n', metadata={'source': '/Users/carlosmorales/Desktop/Carlos/personal_projects/afganistan_news/html_example/news_example.html', 'title': 'Nueva protesta en Extremadura contra el Pacto Europeo de Migración y Asilo - El Periódico Extremadura'})]"
      ]
     },
     "execution_count": 3,
     "metadata": {},
     "output_type": "execute_result"
    }
   ],
   "source": [
    "loader = BSHTMLLoader(\"/Users/carlosmorales/Desktop/Carlos/personal_projects/afganistan_news/html_example/news_example.html\")\n",
    "data = loader.load()\n",
    "data"
   ]
  }
 ],
 "metadata": {
  "kernelspec": {
   "display_name": "afganistan_news-iJBxg4na",
   "language": "python",
   "name": "python3"
  },
  "language_info": {
   "codemirror_mode": {
    "name": "ipython",
    "version": 3
   },
   "file_extension": ".py",
   "mimetype": "text/x-python",
   "name": "python",
   "nbconvert_exporter": "python",
   "pygments_lexer": "ipython3",
   "version": "3.11.6"
  }
 },
 "nbformat": 4,
 "nbformat_minor": 2
}
